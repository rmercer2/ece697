{
 "cells": [
  {
   "cell_type": "code",
   "execution_count": 8,
   "metadata": {
    "colab": {
     "base_uri": "https://localhost:8080/"
    },
    "id": "yRXsRBiMqBhk",
    "outputId": "8b9f620b-3c1b-405d-c4ae-e0791cbf7205"
   },
   "outputs": [
    {
     "name": "stdout",
     "output_type": "stream",
     "text": [
      "Requirement already satisfied: pandasql in /usr/local/lib/python3.6/dist-packages (0.7.3)\n",
      "Requirement already satisfied: numpy in /usr/local/lib/python3.6/dist-packages (from pandasql) (1.19.5)\n",
      "Requirement already satisfied: sqlalchemy in /usr/local/lib/python3.6/dist-packages (from pandasql) (1.4.20)\n",
      "Requirement already satisfied: pandas in /usr/local/lib/python3.6/dist-packages (from pandasql) (1.1.5)\n",
      "Requirement already satisfied: importlib-metadata; python_version < \"3.8\" in /usr/local/lib/python3.6/dist-packages (from sqlalchemy->pandasql) (4.6.1)\n",
      "Requirement already satisfied: greenlet!=0.4.17; python_version >= \"3\" in /usr/local/lib/python3.6/dist-packages (from sqlalchemy->pandasql) (1.1.0)\n",
      "Requirement already satisfied: python-dateutil>=2.7.3 in /usr/local/lib/python3.6/dist-packages (from pandas->pandasql) (2.8.1)\n",
      "Requirement already satisfied: pytz>=2017.2 in /usr/local/lib/python3.6/dist-packages (from pandas->pandasql) (2021.1)\n",
      "Requirement already satisfied: typing-extensions>=3.6.4; python_version < \"3.8\" in /usr/local/lib/python3.6/dist-packages (from importlib-metadata; python_version < \"3.8\"->sqlalchemy->pandasql) (3.7.4.3)\n",
      "Requirement already satisfied: zipp>=0.5 in /usr/local/lib/python3.6/dist-packages (from importlib-metadata; python_version < \"3.8\"->sqlalchemy->pandasql) (3.5.0)\n",
      "Requirement already satisfied: six>=1.5 in /usr/local/lib/python3.6/dist-packages (from python-dateutil>=2.7.3->pandas->pandasql) (1.15.0)\n",
      "\u001b[33mWARNING: You are using pip version 20.2.4; however, version 21.1.3 is available.\n",
      "You should consider upgrading via the '/usr/bin/python3 -m pip install --upgrade pip' command.\u001b[0m\n"
     ]
    }
   ],
   "source": [
    "!pip install pandasql"
   ]
  },
  {
   "cell_type": "code",
   "execution_count": 8,
   "metadata": {},
   "outputs": [
    {
     "name": "stdout",
     "output_type": "stream",
     "text": [
      "Requirement already satisfied: ipython-sql in /usr/local/lib/python3.6/dist-packages (0.4.0)\n",
      "Requirement already satisfied: six in /usr/local/lib/python3.6/dist-packages (from ipython-sql) (1.15.0)\n",
      "Requirement already satisfied: ipython-genutils>=0.1.0 in /usr/local/lib/python3.6/dist-packages (from ipython-sql) (0.2.0)\n",
      "Requirement already satisfied: ipython>=1.0 in /usr/local/lib/python3.6/dist-packages (from ipython-sql) (7.16.1)\n",
      "Requirement already satisfied: sqlparse in /usr/local/lib/python3.6/dist-packages (from ipython-sql) (0.4.1)\n",
      "Requirement already satisfied: prettytable<1 in /usr/local/lib/python3.6/dist-packages (from ipython-sql) (0.7.2)\n",
      "Requirement already satisfied: sqlalchemy>=0.6.7 in /usr/local/lib/python3.6/dist-packages (from ipython-sql) (1.4.20)\n",
      "Requirement already satisfied: jedi>=0.10 in /usr/local/lib/python3.6/dist-packages (from ipython>=1.0->ipython-sql) (0.18.0)\n",
      "Requirement already satisfied: decorator in /usr/local/lib/python3.6/dist-packages (from ipython>=1.0->ipython-sql) (5.0.9)\n",
      "Requirement already satisfied: pygments in /usr/local/lib/python3.6/dist-packages (from ipython>=1.0->ipython-sql) (2.9.0)\n",
      "Requirement already satisfied: pexpect; sys_platform != \"win32\" in /usr/local/lib/python3.6/dist-packages (from ipython>=1.0->ipython-sql) (4.8.0)\n",
      "Requirement already satisfied: setuptools>=18.5 in /usr/local/lib/python3.6/dist-packages (from ipython>=1.0->ipython-sql) (57.1.0)\n",
      "Requirement already satisfied: prompt-toolkit!=3.0.0,!=3.0.1,<3.1.0,>=2.0.0 in /usr/local/lib/python3.6/dist-packages (from ipython>=1.0->ipython-sql) (3.0.19)\n",
      "Requirement already satisfied: pickleshare in /usr/local/lib/python3.6/dist-packages (from ipython>=1.0->ipython-sql) (0.7.5)\n",
      "Requirement already satisfied: backcall in /usr/local/lib/python3.6/dist-packages (from ipython>=1.0->ipython-sql) (0.2.0)\n",
      "Requirement already satisfied: traitlets>=4.2 in /usr/local/lib/python3.6/dist-packages (from ipython>=1.0->ipython-sql) (4.3.3)\n",
      "Requirement already satisfied: greenlet!=0.4.17; python_version >= \"3\" in /usr/local/lib/python3.6/dist-packages (from sqlalchemy>=0.6.7->ipython-sql) (1.1.0)\n",
      "Requirement already satisfied: importlib-metadata; python_version < \"3.8\" in /usr/local/lib/python3.6/dist-packages (from sqlalchemy>=0.6.7->ipython-sql) (4.6.1)\n",
      "Requirement already satisfied: parso<0.9.0,>=0.8.0 in /usr/local/lib/python3.6/dist-packages (from jedi>=0.10->ipython>=1.0->ipython-sql) (0.8.2)\n",
      "Requirement already satisfied: ptyprocess>=0.5 in /usr/local/lib/python3.6/dist-packages (from pexpect; sys_platform != \"win32\"->ipython>=1.0->ipython-sql) (0.7.0)\n",
      "Requirement already satisfied: wcwidth in /usr/local/lib/python3.6/dist-packages (from prompt-toolkit!=3.0.0,!=3.0.1,<3.1.0,>=2.0.0->ipython>=1.0->ipython-sql) (0.2.5)\n",
      "Requirement already satisfied: zipp>=0.5 in /usr/local/lib/python3.6/dist-packages (from importlib-metadata; python_version < \"3.8\"->sqlalchemy>=0.6.7->ipython-sql) (3.5.0)\n",
      "Requirement already satisfied: typing-extensions>=3.6.4; python_version < \"3.8\" in /usr/local/lib/python3.6/dist-packages (from importlib-metadata; python_version < \"3.8\"->sqlalchemy>=0.6.7->ipython-sql) (3.7.4.3)\n",
      "\u001b[33mWARNING: You are using pip version 20.2.4; however, version 21.1.3 is available.\n",
      "You should consider upgrading via the '/usr/bin/python3 -m pip install --upgrade pip' command.\u001b[0m\n"
     ]
    }
   ],
   "source": [
    "!pip install ipython-sql"
   ]
  },
  {
   "cell_type": "code",
   "execution_count": 5,
   "metadata": {
    "id": "h1IdNwH4py_H"
   },
   "outputs": [],
   "source": [
    "import numpy as np\n",
    "import matplotlib.pyplot as plt\n",
    "import pandas as pd\n",
    "from pandasql import sqldf\n",
    "from sqlalchemy import create_engine\n",
    "\n",
    "from datetime import datetime\n",
    "from datetime import timedelta"
   ]
  },
  {
   "cell_type": "code",
   "execution_count": 7,
   "metadata": {
    "colab": {
     "base_uri": "https://localhost:8080/",
     "height": 419
    },
    "id": "EJ8w9SpOpy_K",
    "outputId": "ceac7e26-78bf-4f46-f407-9d90387602d4"
   },
   "outputs": [
    {
     "data": {
      "text/html": [
       "<div>\n",
       "<style scoped>\n",
       "    .dataframe tbody tr th:only-of-type {\n",
       "        vertical-align: middle;\n",
       "    }\n",
       "\n",
       "    .dataframe tbody tr th {\n",
       "        vertical-align: top;\n",
       "    }\n",
       "\n",
       "    .dataframe thead th {\n",
       "        text-align: right;\n",
       "    }\n",
       "</style>\n",
       "<table border=\"1\" class=\"dataframe\">\n",
       "  <thead>\n",
       "    <tr style=\"text-align: right;\">\n",
       "      <th></th>\n",
       "      <th>start_time</th>\n",
       "      <th>installation_id</th>\n",
       "      <th>station_id</th>\n",
       "    </tr>\n",
       "  </thead>\n",
       "  <tbody>\n",
       "    <tr>\n",
       "      <th>0</th>\n",
       "      <td>2021-04-01 00:00:00.088007</td>\n",
       "      <td>412914</td>\n",
       "      <td>1025503</td>\n",
       "    </tr>\n",
       "    <tr>\n",
       "      <th>1</th>\n",
       "      <td>2021-04-01 00:00:00.107122</td>\n",
       "      <td>413884</td>\n",
       "      <td>985795</td>\n",
       "    </tr>\n",
       "    <tr>\n",
       "      <th>2</th>\n",
       "      <td>2021-04-01 00:00:00.199838</td>\n",
       "      <td>418743</td>\n",
       "      <td>876082</td>\n",
       "    </tr>\n",
       "    <tr>\n",
       "      <th>3</th>\n",
       "      <td>2021-04-01 00:00:00.244472</td>\n",
       "      <td>419447</td>\n",
       "      <td>883379</td>\n",
       "    </tr>\n",
       "    <tr>\n",
       "      <th>4</th>\n",
       "      <td>2021-04-01 00:00:00.352282</td>\n",
       "      <td>413584</td>\n",
       "      <td>855284</td>\n",
       "    </tr>\n",
       "    <tr>\n",
       "      <th>...</th>\n",
       "      <td>...</td>\n",
       "      <td>...</td>\n",
       "      <td>...</td>\n",
       "    </tr>\n",
       "    <tr>\n",
       "      <th>2066168</th>\n",
       "      <td>2021-04-01 23:59:59.494044</td>\n",
       "      <td>413406</td>\n",
       "      <td>972273</td>\n",
       "    </tr>\n",
       "    <tr>\n",
       "      <th>2066169</th>\n",
       "      <td>2021-04-01 23:59:59.513663</td>\n",
       "      <td>412357</td>\n",
       "      <td>969521</td>\n",
       "    </tr>\n",
       "    <tr>\n",
       "      <th>2066170</th>\n",
       "      <td>2021-04-01 23:59:59.602626</td>\n",
       "      <td>415752</td>\n",
       "      <td>1005312</td>\n",
       "    </tr>\n",
       "    <tr>\n",
       "      <th>2066171</th>\n",
       "      <td>2021-04-01 23:59:59.625039</td>\n",
       "      <td>420719</td>\n",
       "      <td>957148</td>\n",
       "    </tr>\n",
       "    <tr>\n",
       "      <th>2066172</th>\n",
       "      <td>2021-04-01 23:59:59.770060</td>\n",
       "      <td>412235</td>\n",
       "      <td>863753</td>\n",
       "    </tr>\n",
       "  </tbody>\n",
       "</table>\n",
       "<p>2066173 rows × 3 columns</p>\n",
       "</div>"
      ],
      "text/plain": [
       "                         start_time  installation_id  station_id\n",
       "0        2021-04-01 00:00:00.088007           412914     1025503\n",
       "1        2021-04-01 00:00:00.107122           413884      985795\n",
       "2        2021-04-01 00:00:00.199838           418743      876082\n",
       "3        2021-04-01 00:00:00.244472           419447      883379\n",
       "4        2021-04-01 00:00:00.352282           413584      855284\n",
       "...                             ...              ...         ...\n",
       "2066168  2021-04-01 23:59:59.494044           413406      972273\n",
       "2066169  2021-04-01 23:59:59.513663           412357      969521\n",
       "2066170  2021-04-01 23:59:59.602626           415752     1005312\n",
       "2066171  2021-04-01 23:59:59.625039           420719      957148\n",
       "2066172  2021-04-01 23:59:59.770060           412235      863753\n",
       "\n",
       "[2066173 rows x 3 columns]"
      ]
     },
     "execution_count": 7,
     "metadata": {},
     "output_type": "execute_result"
    }
   ],
   "source": [
    "##################\n",
    "# import raw data\n",
    "##################\n",
    "df = pd.read_csv('https://uwmadison.box.com/shared/static/6ff20fwvm1ejtk4wfo37e9o7e60y7y5d.gz')\n",
    "df"
   ]
  },
  {
   "cell_type": "code",
   "execution_count": 8,
   "metadata": {
    "id": "zjJ8sXe8py_L"
   },
   "outputs": [],
   "source": [
    "######################\n",
    "# create db connection\n",
    "######################\n",
    "connection_to_db = create_engine('sqlite:///associations.db')\n"
   ]
  },
  {
   "cell_type": "code",
   "execution_count": 9,
   "metadata": {},
   "outputs": [],
   "source": [
    "# table from raw data\n",
    "df.to_sql('associations', con=connection_to_db, if_exists='replace')"
   ]
  },
  {
   "cell_type": "code",
   "execution_count": 10,
   "metadata": {
    "colab": {
     "base_uri": "https://localhost:8080/",
     "height": 35
    },
    "id": "Ea-6x6Lmpy_M",
    "outputId": "bc3d7e37-1246-4a32-b96d-e2b7ff080111"
   },
   "outputs": [
    {
     "name": "stdout",
     "output_type": "stream",
     "text": [
      "The sql extension is already loaded. To reload it, use:\n",
      "  %reload_ext sql\n"
     ]
    }
   ],
   "source": [
    "# run first time\n",
    "%load_ext sql\n",
    "%sql sqlite:///associations.db"
   ]
  },
  {
   "cell_type": "code",
   "execution_count": 6,
   "metadata": {},
   "outputs": [],
   "source": [
    "# otherwise run this\n",
    "%reload_ext sql\n",
    "%sql sqlite:///associations.db"
   ]
  },
  {
   "cell_type": "code",
   "execution_count": 7,
   "metadata": {
    "colab": {
     "base_uri": "https://localhost:8080/",
     "height": 179
    },
    "id": "meV8kv-0py_M",
    "outputId": "d4c60d44-5908-4d64-c847-c7c62973502f"
   },
   "outputs": [
    {
     "ename": "SyntaxError",
     "evalue": "invalid syntax (<ipython-input-7-fcc88468e33e>, line 3)",
     "output_type": "error",
     "traceback": [
      "\u001b[0;36m  File \u001b[0;32m\"<ipython-input-7-fcc88468e33e>\"\u001b[0;36m, line \u001b[0;32m3\u001b[0m\n\u001b[0;31m    select * from associations limit 5;\u001b[0m\n\u001b[0m                ^\u001b[0m\n\u001b[0;31mSyntaxError\u001b[0m\u001b[0;31m:\u001b[0m invalid syntax\n"
     ]
    }
   ],
   "source": [
    "# confirm associations table\n",
    "%%sql\n",
    "select * from associations limit 5;"
   ]
  },
  {
   "cell_type": "code",
   "execution_count": null,
   "metadata": {
    "colab": {
     "base_uri": "https://localhost:8080/"
    },
    "id": "fSH_1E-Kpy_N",
    "outputId": "cf59c380-8a8f-4a64-e35d-ed98b988b77c"
   },
   "outputs": [],
   "source": [
    "# run once time\n",
    "# builds associations_cross table\n",
    "# format:\n",
    "# station_id, ap_1, ap_2, t1, t2\n",
    "%%sql\n",
    "\n",
    "create table associations_cross as select\n",
    "a.station_id, \n",
    "a.installation_id as ap_1,\n",
    "b.installation_id as ap_2,\n",
    "a.start_time as t1, \n",
    "b.start_time as t2\n",
    "from associations a join associations b on a.station_id = b.station_id;"
   ]
  },
  {
   "cell_type": "code",
   "execution_count": 7,
   "metadata": {},
   "outputs": [
    {
     "name": "stdout",
     "output_type": "stream",
     "text": [
      " * sqlite:///associations.db\n",
      "1342052527 rows affected.\n"
     ]
    },
    {
     "data": {
      "text/plain": [
       "[]"
      ]
     },
     "execution_count": 7,
     "metadata": {},
     "output_type": "execute_result"
    }
   ],
   "source": [
    "# run once time\n",
    "%%sql\n",
    "delete from associations_cross where ap_1 = ap_2"
   ]
  },
  {
   "cell_type": "code",
   "execution_count": 34,
   "metadata": {},
   "outputs": [
    {
     "name": "stdout",
     "output_type": "stream",
     "text": [
      " * sqlite:///associations.db\n",
      "Done.\n"
     ]
    },
    {
     "data": {
      "text/html": [
       "<table>\n",
       "    <tr>\n",
       "        <th>cid</th>\n",
       "        <th>name</th>\n",
       "        <th>type</th>\n",
       "        <th>notnull</th>\n",
       "        <th>dflt_value</th>\n",
       "        <th>pk</th>\n",
       "    </tr>\n",
       "    <tr>\n",
       "        <td>0</td>\n",
       "        <td>station_id</td>\n",
       "        <td>INT</td>\n",
       "        <td>0</td>\n",
       "        <td>None</td>\n",
       "        <td>0</td>\n",
       "    </tr>\n",
       "    <tr>\n",
       "        <td>1</td>\n",
       "        <td>ap_1</td>\n",
       "        <td>INT</td>\n",
       "        <td>0</td>\n",
       "        <td>None</td>\n",
       "        <td>0</td>\n",
       "    </tr>\n",
       "    <tr>\n",
       "        <td>2</td>\n",
       "        <td>ap_2</td>\n",
       "        <td>INT</td>\n",
       "        <td>0</td>\n",
       "        <td>None</td>\n",
       "        <td>0</td>\n",
       "    </tr>\n",
       "    <tr>\n",
       "        <td>3</td>\n",
       "        <td>t1</td>\n",
       "        <td>TEXT</td>\n",
       "        <td>0</td>\n",
       "        <td>None</td>\n",
       "        <td>0</td>\n",
       "    </tr>\n",
       "    <tr>\n",
       "        <td>4</td>\n",
       "        <td>t2</td>\n",
       "        <td>TEXT</td>\n",
       "        <td>0</td>\n",
       "        <td>None</td>\n",
       "        <td>0</td>\n",
       "    </tr>\n",
       "</table>"
      ],
      "text/plain": [
       "[(0, 'station_id', 'INT', 0, None, 0),\n",
       " (1, 'ap_1', 'INT', 0, None, 0),\n",
       " (2, 'ap_2', 'INT', 0, None, 0),\n",
       " (3, 't1', 'TEXT', 0, None, 0),\n",
       " (4, 't2', 'TEXT', 0, None, 0)]"
      ]
     },
     "execution_count": 34,
     "metadata": {},
     "output_type": "execute_result"
    }
   ],
   "source": [
    "%%sql\n",
    "pragma table_info(associations_cross);"
   ]
  },
  {
   "cell_type": "code",
   "execution_count": null,
   "metadata": {},
   "outputs": [],
   "source": [
    "# function to compute time given two timestamps\n",
    "def time_apart(t1, t2):\n",
    "  str1 = t1.split()\n",
    "  str2 = t2.split()\n",
    "  FMT = '%H:%M:%S.%f'\n",
    "  tdelta = datetime.strptime(str2[1], FMT) - datetime.strptime(str1[1], FMT)\n",
    "  return tdelta"
   ]
  },
  {
   "cell_type": "code",
   "execution_count": null,
   "metadata": {},
   "outputs": [
    {
     "name": "stdout",
     "output_type": "stream",
     "text": [
      " * sqlite:///associations.db\n",
      "Done.\n"
     ]
    }
   ],
   "source": [
    "# pandas dataframe\n",
    "transitions = %sql select * from associations_cross\n",
    "transitions_df = transitions.DataFrame()"
   ]
  },
  {
   "cell_type": "code",
   "execution_count": null,
   "metadata": {},
   "outputs": [],
   "source": [
    "transitions_df"
   ]
  },
  {
   "cell_type": "code",
   "execution_count": null,
   "metadata": {},
   "outputs": [],
   "source": [
    "transitions_df['distance']"
   ]
  },
  {
   "cell_type": "code",
   "execution_count": 35,
   "metadata": {},
   "outputs": [
    {
     "ename": "SyntaxError",
     "evalue": "invalid syntax (<ipython-input-35-3d7e1ed60d82>, line 3)",
     "output_type": "error",
     "traceback": [
      "\u001b[0;36m  File \u001b[0;32m\"<ipython-input-35-3d7e1ed60d82>\"\u001b[0;36m, line \u001b[0;32m3\u001b[0m\n\u001b[0;31m    alter table associations_cross\u001b[0m\n\u001b[0m              ^\u001b[0m\n\u001b[0;31mSyntaxError\u001b[0m\u001b[0;31m:\u001b[0m invalid syntax\n"
     ]
    }
   ],
   "source": [
    "# add column for distance apart\n"
   ]
  },
  {
   "cell_type": "code",
   "execution_count": null,
   "metadata": {},
   "outputs": [],
   "source": [
    "# compute from t1 and t2\n"
   ]
  },
  {
   "cell_type": "code",
   "execution_count": null,
   "metadata": {},
   "outputs": [],
   "source": [
    "# drop time stamps and station ids\n"
   ]
  },
  {
   "cell_type": "code",
   "execution_count": null,
   "metadata": {},
   "outputs": [],
   "source": [
    "# join rows where ap_1 = ap_1 and ap_2 = ap_2\n",
    "# sum distances\n",
    "# add column for count\n"
   ]
  },
  {
   "cell_type": "code",
   "execution_count": 8,
   "metadata": {
    "colab": {
     "base_uri": "https://localhost:8080/",
     "height": 179
    },
    "id": "TK84aAC0py_N",
    "outputId": "514a17d3-b10c-4261-924c-aec5dfda664a"
   },
   "outputs": [
    {
     "name": "stdout",
     "output_type": "stream",
     "text": [
      " * sqlite:///associations.db\n",
      "Done.\n"
     ]
    },
    {
     "data": {
      "text/html": [
       "<table>\n",
       "    <tr>\n",
       "        <th>station_id</th>\n",
       "        <th>ap_1</th>\n",
       "        <th>ap_2</th>\n",
       "        <th>t1</th>\n",
       "        <th>t2</th>\n",
       "    </tr>\n",
       "    <tr>\n",
       "        <td>1025503</td>\n",
       "        <td>412914</td>\n",
       "        <td>413772</td>\n",
       "        <td>2021-04-01 00:00:00.088007</td>\n",
       "        <td>2021-04-01 00:00:21.692255</td>\n",
       "    </tr>\n",
       "    <tr>\n",
       "        <td>1025503</td>\n",
       "        <td>412914</td>\n",
       "        <td>412996</td>\n",
       "        <td>2021-04-01 00:00:00.088007</td>\n",
       "        <td>2021-04-01 00:00:29.930613</td>\n",
       "    </tr>\n",
       "    <tr>\n",
       "        <td>1025503</td>\n",
       "        <td>412914</td>\n",
       "        <td>416512</td>\n",
       "        <td>2021-04-01 00:00:00.088007</td>\n",
       "        <td>2021-04-01 00:00:34.193936</td>\n",
       "    </tr>\n",
       "    <tr>\n",
       "        <td>1025503</td>\n",
       "        <td>412914</td>\n",
       "        <td>415462</td>\n",
       "        <td>2021-04-01 00:00:00.088007</td>\n",
       "        <td>2021-04-01 00:00:48.611063</td>\n",
       "    </tr>\n",
       "    <tr>\n",
       "        <td>1025503</td>\n",
       "        <td>412914</td>\n",
       "        <td>415462</td>\n",
       "        <td>2021-04-01 00:00:00.088007</td>\n",
       "        <td>2021-04-01 00:01:08.961677</td>\n",
       "    </tr>\n",
       "</table>"
      ],
      "text/plain": [
       "[(1025503, 412914, 413772, '2021-04-01 00:00:00.088007', '2021-04-01 00:00:21.692255'),\n",
       " (1025503, 412914, 412996, '2021-04-01 00:00:00.088007', '2021-04-01 00:00:29.930613'),\n",
       " (1025503, 412914, 416512, '2021-04-01 00:00:00.088007', '2021-04-01 00:00:34.193936'),\n",
       " (1025503, 412914, 415462, '2021-04-01 00:00:00.088007', '2021-04-01 00:00:48.611063'),\n",
       " (1025503, 412914, 415462, '2021-04-01 00:00:00.088007', '2021-04-01 00:01:08.961677')]"
      ]
     },
     "execution_count": 8,
     "metadata": {},
     "output_type": "execute_result"
    }
   ],
   "source": [
    "%%sql\n",
    "select * from associations_cross limit 5"
   ]
  },
  {
   "cell_type": "code",
   "execution_count": 22,
   "metadata": {},
   "outputs": [
    {
     "name": "stdout",
     "output_type": "stream",
     "text": [
      " * sqlite:///associations.db\n",
      "Done.\n"
     ]
    }
   ],
   "source": [
    "# get unique installation ids\n",
    "installations = %sql select installation_id from associations group by installation_id\n",
    "installations_df = installations.DataFrame()\n",
    "labels = installations_df['installation_id'].tolist()"
   ]
  },
  {
   "cell_type": "code",
   "execution_count": 19,
   "metadata": {},
   "outputs": [
    {
     "data": {
      "text/html": [
       "<div>\n",
       "<style scoped>\n",
       "    .dataframe tbody tr th:only-of-type {\n",
       "        vertical-align: middle;\n",
       "    }\n",
       "\n",
       "    .dataframe tbody tr th {\n",
       "        vertical-align: top;\n",
       "    }\n",
       "\n",
       "    .dataframe thead th {\n",
       "        text-align: right;\n",
       "    }\n",
       "</style>\n",
       "<table border=\"1\" class=\"dataframe\">\n",
       "  <thead>\n",
       "    <tr style=\"text-align: right;\">\n",
       "      <th></th>\n",
       "      <th>1106</th>\n",
       "      <th>411997</th>\n",
       "      <th>411998</th>\n",
       "      <th>411999</th>\n",
       "      <th>412000</th>\n",
       "      <th>412001</th>\n",
       "      <th>412002</th>\n",
       "      <th>412003</th>\n",
       "      <th>412005</th>\n",
       "      <th>412006</th>\n",
       "      <th>...</th>\n",
       "      <th>424250</th>\n",
       "      <th>424251</th>\n",
       "      <th>424252</th>\n",
       "      <th>424253</th>\n",
       "      <th>424254</th>\n",
       "      <th>424255</th>\n",
       "      <th>424256</th>\n",
       "      <th>424257</th>\n",
       "      <th>424258</th>\n",
       "      <th>424259</th>\n",
       "    </tr>\n",
       "  </thead>\n",
       "  <tbody>\n",
       "    <tr>\n",
       "      <th>1106</th>\n",
       "      <td>0</td>\n",
       "      <td>0</td>\n",
       "      <td>0</td>\n",
       "      <td>0</td>\n",
       "      <td>0</td>\n",
       "      <td>0</td>\n",
       "      <td>0</td>\n",
       "      <td>0</td>\n",
       "      <td>0</td>\n",
       "      <td>0</td>\n",
       "      <td>...</td>\n",
       "      <td>0</td>\n",
       "      <td>0</td>\n",
       "      <td>0</td>\n",
       "      <td>0</td>\n",
       "      <td>0</td>\n",
       "      <td>0</td>\n",
       "      <td>0</td>\n",
       "      <td>0</td>\n",
       "      <td>0</td>\n",
       "      <td>0</td>\n",
       "    </tr>\n",
       "    <tr>\n",
       "      <th>411997</th>\n",
       "      <td>0</td>\n",
       "      <td>0</td>\n",
       "      <td>0</td>\n",
       "      <td>0</td>\n",
       "      <td>0</td>\n",
       "      <td>0</td>\n",
       "      <td>0</td>\n",
       "      <td>0</td>\n",
       "      <td>0</td>\n",
       "      <td>0</td>\n",
       "      <td>...</td>\n",
       "      <td>0</td>\n",
       "      <td>0</td>\n",
       "      <td>0</td>\n",
       "      <td>0</td>\n",
       "      <td>0</td>\n",
       "      <td>0</td>\n",
       "      <td>0</td>\n",
       "      <td>0</td>\n",
       "      <td>0</td>\n",
       "      <td>0</td>\n",
       "    </tr>\n",
       "    <tr>\n",
       "      <th>411998</th>\n",
       "      <td>0</td>\n",
       "      <td>0</td>\n",
       "      <td>0</td>\n",
       "      <td>0</td>\n",
       "      <td>0</td>\n",
       "      <td>0</td>\n",
       "      <td>0</td>\n",
       "      <td>0</td>\n",
       "      <td>0</td>\n",
       "      <td>0</td>\n",
       "      <td>...</td>\n",
       "      <td>0</td>\n",
       "      <td>0</td>\n",
       "      <td>0</td>\n",
       "      <td>0</td>\n",
       "      <td>0</td>\n",
       "      <td>0</td>\n",
       "      <td>0</td>\n",
       "      <td>0</td>\n",
       "      <td>0</td>\n",
       "      <td>0</td>\n",
       "    </tr>\n",
       "    <tr>\n",
       "      <th>411999</th>\n",
       "      <td>0</td>\n",
       "      <td>0</td>\n",
       "      <td>0</td>\n",
       "      <td>0</td>\n",
       "      <td>0</td>\n",
       "      <td>0</td>\n",
       "      <td>0</td>\n",
       "      <td>0</td>\n",
       "      <td>0</td>\n",
       "      <td>0</td>\n",
       "      <td>...</td>\n",
       "      <td>0</td>\n",
       "      <td>0</td>\n",
       "      <td>0</td>\n",
       "      <td>0</td>\n",
       "      <td>0</td>\n",
       "      <td>0</td>\n",
       "      <td>0</td>\n",
       "      <td>0</td>\n",
       "      <td>0</td>\n",
       "      <td>0</td>\n",
       "    </tr>\n",
       "    <tr>\n",
       "      <th>412000</th>\n",
       "      <td>0</td>\n",
       "      <td>0</td>\n",
       "      <td>0</td>\n",
       "      <td>0</td>\n",
       "      <td>0</td>\n",
       "      <td>0</td>\n",
       "      <td>0</td>\n",
       "      <td>0</td>\n",
       "      <td>0</td>\n",
       "      <td>0</td>\n",
       "      <td>...</td>\n",
       "      <td>0</td>\n",
       "      <td>0</td>\n",
       "      <td>0</td>\n",
       "      <td>0</td>\n",
       "      <td>0</td>\n",
       "      <td>0</td>\n",
       "      <td>0</td>\n",
       "      <td>0</td>\n",
       "      <td>0</td>\n",
       "      <td>0</td>\n",
       "    </tr>\n",
       "    <tr>\n",
       "      <th>...</th>\n",
       "      <td>...</td>\n",
       "      <td>...</td>\n",
       "      <td>...</td>\n",
       "      <td>...</td>\n",
       "      <td>...</td>\n",
       "      <td>...</td>\n",
       "      <td>...</td>\n",
       "      <td>...</td>\n",
       "      <td>...</td>\n",
       "      <td>...</td>\n",
       "      <td>...</td>\n",
       "      <td>...</td>\n",
       "      <td>...</td>\n",
       "      <td>...</td>\n",
       "      <td>...</td>\n",
       "      <td>...</td>\n",
       "      <td>...</td>\n",
       "      <td>...</td>\n",
       "      <td>...</td>\n",
       "      <td>...</td>\n",
       "      <td>...</td>\n",
       "    </tr>\n",
       "    <tr>\n",
       "      <th>424255</th>\n",
       "      <td>0</td>\n",
       "      <td>0</td>\n",
       "      <td>0</td>\n",
       "      <td>0</td>\n",
       "      <td>0</td>\n",
       "      <td>0</td>\n",
       "      <td>0</td>\n",
       "      <td>0</td>\n",
       "      <td>0</td>\n",
       "      <td>0</td>\n",
       "      <td>...</td>\n",
       "      <td>0</td>\n",
       "      <td>0</td>\n",
       "      <td>0</td>\n",
       "      <td>0</td>\n",
       "      <td>0</td>\n",
       "      <td>0</td>\n",
       "      <td>0</td>\n",
       "      <td>0</td>\n",
       "      <td>0</td>\n",
       "      <td>0</td>\n",
       "    </tr>\n",
       "    <tr>\n",
       "      <th>424256</th>\n",
       "      <td>0</td>\n",
       "      <td>0</td>\n",
       "      <td>0</td>\n",
       "      <td>0</td>\n",
       "      <td>0</td>\n",
       "      <td>0</td>\n",
       "      <td>0</td>\n",
       "      <td>0</td>\n",
       "      <td>0</td>\n",
       "      <td>0</td>\n",
       "      <td>...</td>\n",
       "      <td>0</td>\n",
       "      <td>0</td>\n",
       "      <td>0</td>\n",
       "      <td>0</td>\n",
       "      <td>0</td>\n",
       "      <td>0</td>\n",
       "      <td>0</td>\n",
       "      <td>0</td>\n",
       "      <td>0</td>\n",
       "      <td>0</td>\n",
       "    </tr>\n",
       "    <tr>\n",
       "      <th>424257</th>\n",
       "      <td>0</td>\n",
       "      <td>0</td>\n",
       "      <td>0</td>\n",
       "      <td>0</td>\n",
       "      <td>0</td>\n",
       "      <td>0</td>\n",
       "      <td>0</td>\n",
       "      <td>0</td>\n",
       "      <td>0</td>\n",
       "      <td>0</td>\n",
       "      <td>...</td>\n",
       "      <td>0</td>\n",
       "      <td>0</td>\n",
       "      <td>0</td>\n",
       "      <td>0</td>\n",
       "      <td>0</td>\n",
       "      <td>0</td>\n",
       "      <td>0</td>\n",
       "      <td>0</td>\n",
       "      <td>0</td>\n",
       "      <td>0</td>\n",
       "    </tr>\n",
       "    <tr>\n",
       "      <th>424258</th>\n",
       "      <td>0</td>\n",
       "      <td>0</td>\n",
       "      <td>0</td>\n",
       "      <td>0</td>\n",
       "      <td>0</td>\n",
       "      <td>0</td>\n",
       "      <td>0</td>\n",
       "      <td>0</td>\n",
       "      <td>0</td>\n",
       "      <td>0</td>\n",
       "      <td>...</td>\n",
       "      <td>0</td>\n",
       "      <td>0</td>\n",
       "      <td>0</td>\n",
       "      <td>0</td>\n",
       "      <td>0</td>\n",
       "      <td>0</td>\n",
       "      <td>0</td>\n",
       "      <td>0</td>\n",
       "      <td>0</td>\n",
       "      <td>0</td>\n",
       "    </tr>\n",
       "    <tr>\n",
       "      <th>424259</th>\n",
       "      <td>0</td>\n",
       "      <td>0</td>\n",
       "      <td>0</td>\n",
       "      <td>0</td>\n",
       "      <td>0</td>\n",
       "      <td>0</td>\n",
       "      <td>0</td>\n",
       "      <td>0</td>\n",
       "      <td>0</td>\n",
       "      <td>0</td>\n",
       "      <td>...</td>\n",
       "      <td>0</td>\n",
       "      <td>0</td>\n",
       "      <td>0</td>\n",
       "      <td>0</td>\n",
       "      <td>0</td>\n",
       "      <td>0</td>\n",
       "      <td>0</td>\n",
       "      <td>0</td>\n",
       "      <td>0</td>\n",
       "      <td>0</td>\n",
       "    </tr>\n",
       "  </tbody>\n",
       "</table>\n",
       "<p>10730 rows × 10730 columns</p>\n",
       "</div>"
      ],
      "text/plain": [
       "        1106    411997  411998  411999  412000  412001  412002  412003  \\\n",
       "1106         0       0       0       0       0       0       0       0   \n",
       "411997       0       0       0       0       0       0       0       0   \n",
       "411998       0       0       0       0       0       0       0       0   \n",
       "411999       0       0       0       0       0       0       0       0   \n",
       "412000       0       0       0       0       0       0       0       0   \n",
       "...        ...     ...     ...     ...     ...     ...     ...     ...   \n",
       "424255       0       0       0       0       0       0       0       0   \n",
       "424256       0       0       0       0       0       0       0       0   \n",
       "424257       0       0       0       0       0       0       0       0   \n",
       "424258       0       0       0       0       0       0       0       0   \n",
       "424259       0       0       0       0       0       0       0       0   \n",
       "\n",
       "        412005  412006  ...  424250  424251  424252  424253  424254  424255  \\\n",
       "1106         0       0  ...       0       0       0       0       0       0   \n",
       "411997       0       0  ...       0       0       0       0       0       0   \n",
       "411998       0       0  ...       0       0       0       0       0       0   \n",
       "411999       0       0  ...       0       0       0       0       0       0   \n",
       "412000       0       0  ...       0       0       0       0       0       0   \n",
       "...        ...     ...  ...     ...     ...     ...     ...     ...     ...   \n",
       "424255       0       0  ...       0       0       0       0       0       0   \n",
       "424256       0       0  ...       0       0       0       0       0       0   \n",
       "424257       0       0  ...       0       0       0       0       0       0   \n",
       "424258       0       0  ...       0       0       0       0       0       0   \n",
       "424259       0       0  ...       0       0       0       0       0       0   \n",
       "\n",
       "        424256  424257  424258  424259  \n",
       "1106         0       0       0       0  \n",
       "411997       0       0       0       0  \n",
       "411998       0       0       0       0  \n",
       "411999       0       0       0       0  \n",
       "412000       0       0       0       0  \n",
       "...        ...     ...     ...     ...  \n",
       "424255       0       0       0       0  \n",
       "424256       0       0       0       0  \n",
       "424257       0       0       0       0  \n",
       "424258       0       0       0       0  \n",
       "424259       0       0       0       0  \n",
       "\n",
       "[10730 rows x 10730 columns]"
      ]
     },
     "execution_count": 19,
     "metadata": {},
     "output_type": "execute_result"
    }
   ],
   "source": [
    "# init dissimilairty matrix\n",
    "dissimilarity_matrix = pd.DataFrame(index=labels, columns=labels)\n",
    "dissimilarity_matrix = dissimilarity_matrix.fillna(0)\n",
    "dissimilarity_matrix"
   ]
  },
  {
   "cell_type": "code",
   "execution_count": 21,
   "metadata": {},
   "outputs": [
    {
     "data": {
      "text/plain": [
       "0"
      ]
     },
     "execution_count": 21,
     "metadata": {},
     "output_type": "execute_result"
    }
   ],
   "source": [
    "dissimilarity_matrix[411998][1106]"
   ]
  },
  {
   "cell_type": "code",
   "execution_count": null,
   "metadata": {},
   "outputs": [],
   "source": []
  },
  {
   "cell_type": "code",
   "execution_count": null,
   "metadata": {},
   "outputs": [],
   "source": []
  },
  {
   "cell_type": "code",
   "execution_count": null,
   "metadata": {},
   "outputs": [],
   "source": [
    "# build dissimilarity matrix\n",
    "# df_associations_cross has cols: station_id, ap_1, ap2, t1, t2\n",
    "for i, row in data.iterrows():\n",
    "  "
   ]
  }
 ],
 "metadata": {
  "colab": {
   "name": "DataPreprocessing_SQL.ipynb",
   "provenance": []
  },
  "kernelspec": {
   "display_name": "Python 3",
   "language": "python",
   "name": "python3"
  },
  "language_info": {
   "codemirror_mode": {
    "name": "ipython",
    "version": 3
   },
   "file_extension": ".py",
   "mimetype": "text/x-python",
   "name": "python",
   "nbconvert_exporter": "python",
   "pygments_lexer": "ipython3",
   "version": "3.6.9"
  }
 },
 "nbformat": 4,
 "nbformat_minor": 1
}
