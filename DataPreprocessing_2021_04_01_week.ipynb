{
 "cells": [
  {
   "cell_type": "code",
   "execution_count": null,
   "metadata": {},
   "outputs": [],
   "source": [
    "####################################################################################################\n",
    "## This file is run once to create the 2021_04_01_week_associations_times.csv file from raw data\n",
    "## This is the data preprocessing steps for one week of raw data\n",
    "####################################################################################################"
   ]
  },
  {
   "cell_type": "code",
   "execution_count": 1,
   "metadata": {},
   "outputs": [],
   "source": [
    "import numpy as np\n",
    "import matplotlib.pyplot as plt\n",
    "import pandas as pd\n",
    "from pandasql import sqldf\n",
    "from sqlalchemy import create_engine\n",
    "\n",
    "from datetime import datetime\n",
    "from datetime import timedelta\n",
    "import os, sys\n",
    "\n",
    "import gzip"
   ]
  },
  {
   "cell_type": "code",
   "execution_count": 57,
   "metadata": {},
   "outputs": [
    {
     "data": {
      "text/html": [
       "<div>\n",
       "<style scoped>\n",
       "    .dataframe tbody tr th:only-of-type {\n",
       "        vertical-align: middle;\n",
       "    }\n",
       "\n",
       "    .dataframe tbody tr th {\n",
       "        vertical-align: top;\n",
       "    }\n",
       "\n",
       "    .dataframe thead th {\n",
       "        text-align: right;\n",
       "    }\n",
       "</style>\n",
       "<table border=\"1\" class=\"dataframe\">\n",
       "  <thead>\n",
       "    <tr style=\"text-align: right;\">\n",
       "      <th></th>\n",
       "      <th>start_time</th>\n",
       "      <th>installation_id</th>\n",
       "      <th>station_id</th>\n",
       "    </tr>\n",
       "  </thead>\n",
       "  <tbody>\n",
       "    <tr>\n",
       "      <th>0</th>\n",
       "      <td>2021-04-01 00:00:00.088007</td>\n",
       "      <td>412914</td>\n",
       "      <td>1025503</td>\n",
       "    </tr>\n",
       "    <tr>\n",
       "      <th>1</th>\n",
       "      <td>2021-04-01 00:00:00.107122</td>\n",
       "      <td>413884</td>\n",
       "      <td>985795</td>\n",
       "    </tr>\n",
       "    <tr>\n",
       "      <th>2</th>\n",
       "      <td>2021-04-01 00:00:00.199838</td>\n",
       "      <td>418743</td>\n",
       "      <td>876082</td>\n",
       "    </tr>\n",
       "    <tr>\n",
       "      <th>3</th>\n",
       "      <td>2021-04-01 00:00:00.244472</td>\n",
       "      <td>419447</td>\n",
       "      <td>883379</td>\n",
       "    </tr>\n",
       "    <tr>\n",
       "      <th>4</th>\n",
       "      <td>2021-04-01 00:00:00.352282</td>\n",
       "      <td>413584</td>\n",
       "      <td>855284</td>\n",
       "    </tr>\n",
       "    <tr>\n",
       "      <th>...</th>\n",
       "      <td>...</td>\n",
       "      <td>...</td>\n",
       "      <td>...</td>\n",
       "    </tr>\n",
       "    <tr>\n",
       "      <th>12978005</th>\n",
       "      <td>2021-04-07 23:59:59.800863</td>\n",
       "      <td>416813</td>\n",
       "      <td>1042530</td>\n",
       "    </tr>\n",
       "    <tr>\n",
       "      <th>12978006</th>\n",
       "      <td>2021-04-07 23:59:59.871990</td>\n",
       "      <td>419362</td>\n",
       "      <td>961954</td>\n",
       "    </tr>\n",
       "    <tr>\n",
       "      <th>12978007</th>\n",
       "      <td>2021-04-07 23:59:59.885904</td>\n",
       "      <td>415686</td>\n",
       "      <td>1042463</td>\n",
       "    </tr>\n",
       "    <tr>\n",
       "      <th>12978008</th>\n",
       "      <td>2021-04-07 23:59:59.912764</td>\n",
       "      <td>415020</td>\n",
       "      <td>870582</td>\n",
       "    </tr>\n",
       "    <tr>\n",
       "      <th>12978009</th>\n",
       "      <td>2021-04-07 23:59:59.991337</td>\n",
       "      <td>416268</td>\n",
       "      <td>895457</td>\n",
       "    </tr>\n",
       "  </tbody>\n",
       "</table>\n",
       "<p>12978010 rows × 3 columns</p>\n",
       "</div>"
      ],
      "text/plain": [
       "                          start_time  installation_id  station_id\n",
       "0         2021-04-01 00:00:00.088007           412914     1025503\n",
       "1         2021-04-01 00:00:00.107122           413884      985795\n",
       "2         2021-04-01 00:00:00.199838           418743      876082\n",
       "3         2021-04-01 00:00:00.244472           419447      883379\n",
       "4         2021-04-01 00:00:00.352282           413584      855284\n",
       "...                              ...              ...         ...\n",
       "12978005  2021-04-07 23:59:59.800863           416813     1042530\n",
       "12978006  2021-04-07 23:59:59.871990           419362      961954\n",
       "12978007  2021-04-07 23:59:59.885904           415686     1042463\n",
       "12978008  2021-04-07 23:59:59.912764           415020      870582\n",
       "12978009  2021-04-07 23:59:59.991337           416268      895457\n",
       "\n",
       "[12978010 rows x 3 columns]"
      ]
     },
     "execution_count": 57,
     "metadata": {},
     "output_type": "execute_result"
    }
   ],
   "source": [
    "##################\n",
    "# import raw data\n",
    "##################\n",
    "try:\n",
    "    df = pd.read_csv('2021_04_01_week_associations.csv.gz', compression='gzip', warn_bad_lines=True)\n",
    "except Exception as e:\n",
    "    print(e)\n",
    "    \n",
    "df"
   ]
  },
  {
   "cell_type": "code",
   "execution_count": 58,
   "metadata": {},
   "outputs": [
    {
     "data": {
      "text/plain": [
       "datetime.datetime(2021, 4, 1, 0, 0, 0, 88007)"
      ]
     },
     "execution_count": 58,
     "metadata": {},
     "output_type": "execute_result"
    }
   ],
   "source": [
    "# get time zero\n",
    "first_time = datetime.strptime(df.iloc[0]['start_time'], '%Y-%m-%d %H:%M:%S.%f')\n",
    "first_time"
   ]
  },
  {
   "cell_type": "code",
   "execution_count": 61,
   "metadata": {},
   "outputs": [],
   "source": [
    "##################################################\n",
    "# function for integer time since 0 on current day\n",
    "# input: t, string of start_time of current row\n",
    "# output: returns difference in seconds from start time (seconds since start)\n",
    "##################################################\n",
    "def time_since_start(t):\n",
    "    try:\n",
    "        current_time = datetime.strptime(t, '%Y-%m-%d %H:%M:%S.%f')\n",
    "    except:\n",
    "        t = t + \".0\"\n",
    "        current_time = datetime.strptime(t, '%Y-%m-%d %H:%M:%S.%f')\n",
    "        \n",
    "    difference = (current_time - first_time).total_seconds()\n",
    "    return difference"
   ]
  },
  {
   "cell_type": "code",
   "execution_count": 62,
   "metadata": {},
   "outputs": [],
   "source": [
    "# get dates as integers of seconds since time 0 on given day\n",
    "df['time_stamp'] = df.apply(lambda row : time_since_start(row['start_time']), axis = 1)"
   ]
  },
  {
   "cell_type": "code",
   "execution_count": 63,
   "metadata": {},
   "outputs": [
    {
     "data": {
      "text/html": [
       "<div>\n",
       "<style scoped>\n",
       "    .dataframe tbody tr th:only-of-type {\n",
       "        vertical-align: middle;\n",
       "    }\n",
       "\n",
       "    .dataframe tbody tr th {\n",
       "        vertical-align: top;\n",
       "    }\n",
       "\n",
       "    .dataframe thead th {\n",
       "        text-align: right;\n",
       "    }\n",
       "</style>\n",
       "<table border=\"1\" class=\"dataframe\">\n",
       "  <thead>\n",
       "    <tr style=\"text-align: right;\">\n",
       "      <th></th>\n",
       "      <th>start_time</th>\n",
       "      <th>installation_id</th>\n",
       "      <th>station_id</th>\n",
       "      <th>time_stamp</th>\n",
       "    </tr>\n",
       "  </thead>\n",
       "  <tbody>\n",
       "    <tr>\n",
       "      <th>0</th>\n",
       "      <td>2021-04-01 00:00:00.088007</td>\n",
       "      <td>412914</td>\n",
       "      <td>1025503</td>\n",
       "      <td>0.000000</td>\n",
       "    </tr>\n",
       "    <tr>\n",
       "      <th>1</th>\n",
       "      <td>2021-04-01 00:00:00.107122</td>\n",
       "      <td>413884</td>\n",
       "      <td>985795</td>\n",
       "      <td>0.019115</td>\n",
       "    </tr>\n",
       "    <tr>\n",
       "      <th>2</th>\n",
       "      <td>2021-04-01 00:00:00.199838</td>\n",
       "      <td>418743</td>\n",
       "      <td>876082</td>\n",
       "      <td>0.111831</td>\n",
       "    </tr>\n",
       "    <tr>\n",
       "      <th>3</th>\n",
       "      <td>2021-04-01 00:00:00.244472</td>\n",
       "      <td>419447</td>\n",
       "      <td>883379</td>\n",
       "      <td>0.156465</td>\n",
       "    </tr>\n",
       "    <tr>\n",
       "      <th>4</th>\n",
       "      <td>2021-04-01 00:00:00.352282</td>\n",
       "      <td>413584</td>\n",
       "      <td>855284</td>\n",
       "      <td>0.264275</td>\n",
       "    </tr>\n",
       "    <tr>\n",
       "      <th>...</th>\n",
       "      <td>...</td>\n",
       "      <td>...</td>\n",
       "      <td>...</td>\n",
       "      <td>...</td>\n",
       "    </tr>\n",
       "    <tr>\n",
       "      <th>12978005</th>\n",
       "      <td>2021-04-07 23:59:59.800863</td>\n",
       "      <td>416813</td>\n",
       "      <td>1042530</td>\n",
       "      <td>604799.712856</td>\n",
       "    </tr>\n",
       "    <tr>\n",
       "      <th>12978006</th>\n",
       "      <td>2021-04-07 23:59:59.871990</td>\n",
       "      <td>419362</td>\n",
       "      <td>961954</td>\n",
       "      <td>604799.783983</td>\n",
       "    </tr>\n",
       "    <tr>\n",
       "      <th>12978007</th>\n",
       "      <td>2021-04-07 23:59:59.885904</td>\n",
       "      <td>415686</td>\n",
       "      <td>1042463</td>\n",
       "      <td>604799.797897</td>\n",
       "    </tr>\n",
       "    <tr>\n",
       "      <th>12978008</th>\n",
       "      <td>2021-04-07 23:59:59.912764</td>\n",
       "      <td>415020</td>\n",
       "      <td>870582</td>\n",
       "      <td>604799.824757</td>\n",
       "    </tr>\n",
       "    <tr>\n",
       "      <th>12978009</th>\n",
       "      <td>2021-04-07 23:59:59.991337</td>\n",
       "      <td>416268</td>\n",
       "      <td>895457</td>\n",
       "      <td>604799.903330</td>\n",
       "    </tr>\n",
       "  </tbody>\n",
       "</table>\n",
       "<p>12978010 rows × 4 columns</p>\n",
       "</div>"
      ],
      "text/plain": [
       "                          start_time  installation_id  station_id  \\\n",
       "0         2021-04-01 00:00:00.088007           412914     1025503   \n",
       "1         2021-04-01 00:00:00.107122           413884      985795   \n",
       "2         2021-04-01 00:00:00.199838           418743      876082   \n",
       "3         2021-04-01 00:00:00.244472           419447      883379   \n",
       "4         2021-04-01 00:00:00.352282           413584      855284   \n",
       "...                              ...              ...         ...   \n",
       "12978005  2021-04-07 23:59:59.800863           416813     1042530   \n",
       "12978006  2021-04-07 23:59:59.871990           419362      961954   \n",
       "12978007  2021-04-07 23:59:59.885904           415686     1042463   \n",
       "12978008  2021-04-07 23:59:59.912764           415020      870582   \n",
       "12978009  2021-04-07 23:59:59.991337           416268      895457   \n",
       "\n",
       "             time_stamp  \n",
       "0              0.000000  \n",
       "1              0.019115  \n",
       "2              0.111831  \n",
       "3              0.156465  \n",
       "4              0.264275  \n",
       "...                 ...  \n",
       "12978005  604799.712856  \n",
       "12978006  604799.783983  \n",
       "12978007  604799.797897  \n",
       "12978008  604799.824757  \n",
       "12978009  604799.903330  \n",
       "\n",
       "[12978010 rows x 4 columns]"
      ]
     },
     "execution_count": 63,
     "metadata": {},
     "output_type": "execute_result"
    }
   ],
   "source": [
    "# using encoding for time\n",
    "df.drop(columns=['start_time'])\n",
    "df"
   ]
  },
  {
   "cell_type": "code",
   "execution_count": 64,
   "metadata": {},
   "outputs": [],
   "source": [
    "######################\n",
    "# create db connection\n",
    "######################\n",
    "connection_to_db = create_engine('sqlite:///week_associations.db')"
   ]
  },
  {
   "cell_type": "code",
   "execution_count": 65,
   "metadata": {},
   "outputs": [],
   "source": [
    "# table from raw data\n",
    "df.to_sql('week_associations', con=connection_to_db, if_exists='replace')"
   ]
  },
  {
   "cell_type": "code",
   "execution_count": 66,
   "metadata": {},
   "outputs": [],
   "source": [
    "# run first time\n",
    "%load_ext sql\n",
    "%sql sqlite:///week_associations.db"
   ]
  },
  {
   "cell_type": "code",
   "execution_count": 2,
   "metadata": {},
   "outputs": [],
   "source": [
    "# otherwise run this\n",
    "%reload_ext sql\n",
    "%sql sqlite:///week_associations.db"
   ]
  },
  {
   "cell_type": "code",
   "execution_count": null,
   "metadata": {},
   "outputs": [],
   "source": [
    "# sanity check"
   ]
  },
  {
   "cell_type": "code",
   "execution_count": 69,
   "metadata": {},
   "outputs": [
    {
     "name": "stdout",
     "output_type": "stream",
     "text": [
      " * sqlite:///week_associations.db\n",
      "Done.\n"
     ]
    },
    {
     "data": {
      "text/html": [
       "<table>\n",
       "    <tr>\n",
       "        <th>index</th>\n",
       "        <th>start_time</th>\n",
       "        <th>installation_id</th>\n",
       "        <th>station_id</th>\n",
       "        <th>time_stamp</th>\n",
       "    </tr>\n",
       "    <tr>\n",
       "        <td>0</td>\n",
       "        <td>2021-04-01 00:00:00.088007</td>\n",
       "        <td>412914</td>\n",
       "        <td>1025503</td>\n",
       "        <td>0.0</td>\n",
       "    </tr>\n",
       "    <tr>\n",
       "        <td>1</td>\n",
       "        <td>2021-04-01 00:00:00.107122</td>\n",
       "        <td>413884</td>\n",
       "        <td>985795</td>\n",
       "        <td>0.019115</td>\n",
       "    </tr>\n",
       "    <tr>\n",
       "        <td>2</td>\n",
       "        <td>2021-04-01 00:00:00.199838</td>\n",
       "        <td>418743</td>\n",
       "        <td>876082</td>\n",
       "        <td>0.111831</td>\n",
       "    </tr>\n",
       "    <tr>\n",
       "        <td>3</td>\n",
       "        <td>2021-04-01 00:00:00.244472</td>\n",
       "        <td>419447</td>\n",
       "        <td>883379</td>\n",
       "        <td>0.156465</td>\n",
       "    </tr>\n",
       "    <tr>\n",
       "        <td>4</td>\n",
       "        <td>2021-04-01 00:00:00.352282</td>\n",
       "        <td>413584</td>\n",
       "        <td>855284</td>\n",
       "        <td>0.264275</td>\n",
       "    </tr>\n",
       "</table>"
      ],
      "text/plain": [
       "[(0, '2021-04-01 00:00:00.088007', 412914, 1025503, 0.0),\n",
       " (1, '2021-04-01 00:00:00.107122', 413884, 985795, 0.019115),\n",
       " (2, '2021-04-01 00:00:00.199838', 418743, 876082, 0.111831),\n",
       " (3, '2021-04-01 00:00:00.244472', 419447, 883379, 0.156465),\n",
       " (4, '2021-04-01 00:00:00.352282', 413584, 855284, 0.264275)]"
      ]
     },
     "execution_count": 69,
     "metadata": {},
     "output_type": "execute_result"
    }
   ],
   "source": [
    "%%sql\n",
    "\n",
    "SELECT * FROM week_associations LIMIT 5; "
   ]
  },
  {
   "cell_type": "code",
   "execution_count": null,
   "metadata": {},
   "outputs": [],
   "source": [
    "# builds associations_cross table\n",
    "# format:\n",
    "# station_id, ap_1, ap_2, time_difference"
   ]
  },
  {
   "cell_type": "code",
   "execution_count": 3,
   "metadata": {},
   "outputs": [
    {
     "name": "stdout",
     "output_type": "stream",
     "text": [
      " * sqlite:///week_associations.db\n",
      "Done.\n"
     ]
    },
    {
     "data": {
      "text/plain": [
       "[]"
      ]
     },
     "execution_count": 3,
     "metadata": {},
     "output_type": "execute_result"
    }
   ],
   "source": [
    "%%sql\n",
    "\n",
    "create table associations_cross as select\n",
    "a.station_id, \n",
    "a.installation_id as ap_1,\n",
    "b.installation_id as ap_2,\n",
    "abs(b.time_stamp - a.time_stamp) as time_difference\n",
    "from week_associations a join week_associations b on a.station_id = b.station_id\n",
    "where a.installation_id != b.installation_id and abs(b.time_stamp - a.time_stamp) < 7200;"
   ]
  },
  {
   "cell_type": "code",
   "execution_count": 4,
   "metadata": {},
   "outputs": [],
   "source": [
    "# sanity check"
   ]
  },
  {
   "cell_type": "code",
   "execution_count": 5,
   "metadata": {},
   "outputs": [
    {
     "name": "stdout",
     "output_type": "stream",
     "text": [
      " * sqlite:///week_associations.db\n",
      "Done.\n"
     ]
    },
    {
     "data": {
      "text/html": [
       "<table>\n",
       "    <tr>\n",
       "        <th>station_id</th>\n",
       "        <th>ap_1</th>\n",
       "        <th>ap_2</th>\n",
       "        <th>time_difference</th>\n",
       "    </tr>\n",
       "    <tr>\n",
       "        <td>1025503</td>\n",
       "        <td>412914</td>\n",
       "        <td>412996</td>\n",
       "        <td>29.842606</td>\n",
       "    </tr>\n",
       "    <tr>\n",
       "        <td>1025503</td>\n",
       "        <td>412914</td>\n",
       "        <td>413581</td>\n",
       "        <td>76.468231</td>\n",
       "    </tr>\n",
       "    <tr>\n",
       "        <td>1025503</td>\n",
       "        <td>412914</td>\n",
       "        <td>413581</td>\n",
       "        <td>351.199376</td>\n",
       "    </tr>\n",
       "    <tr>\n",
       "        <td>1025503</td>\n",
       "        <td>412914</td>\n",
       "        <td>413581</td>\n",
       "        <td>597.040277</td>\n",
       "    </tr>\n",
       "    <tr>\n",
       "        <td>1025503</td>\n",
       "        <td>412914</td>\n",
       "        <td>413581</td>\n",
       "        <td>2264.635228</td>\n",
       "    </tr>\n",
       "</table>"
      ],
      "text/plain": [
       "[(1025503, 412914, 412996, 29.842606),\n",
       " (1025503, 412914, 413581, 76.468231),\n",
       " (1025503, 412914, 413581, 351.199376),\n",
       " (1025503, 412914, 413581, 597.040277),\n",
       " (1025503, 412914, 413581, 2264.635228)]"
      ]
     },
     "execution_count": 5,
     "metadata": {},
     "output_type": "execute_result"
    }
   ],
   "source": [
    "%%sql\n",
    "\n",
    "SELECT * FROM associations_cross LIMIT 5; "
   ]
  },
  {
   "cell_type": "code",
   "execution_count": 6,
   "metadata": {},
   "outputs": [],
   "source": [
    "# join instances where ap_1 == ap_1 AND ap_2 == ap_2\n",
    "# add col for count\n",
    "# add col for sum of time_stamps\n",
    "# add col for minimum time"
   ]
  },
  {
   "cell_type": "code",
   "execution_count": 7,
   "metadata": {},
   "outputs": [
    {
     "name": "stdout",
     "output_type": "stream",
     "text": [
      " * sqlite:///week_associations.db\n",
      "Done.\n"
     ]
    },
    {
     "data": {
      "text/plain": [
       "[]"
      ]
     },
     "execution_count": 7,
     "metadata": {},
     "output_type": "execute_result"
    }
   ],
   "source": [
    "%%sql\n",
    "create table associations_results as select\n",
    "ap_1,\n",
    "ap_2,\n",
    "sum(time_difference) as total_time,\n",
    "count(*) as frequency,\n",
    "min(time_difference) as min_time\n",
    "from associations_cross\n",
    "group by\n",
    "ap_1,\n",
    "ap_2;"
   ]
  },
  {
   "cell_type": "code",
   "execution_count": 8,
   "metadata": {},
   "outputs": [],
   "source": [
    "# sanity check"
   ]
  },
  {
   "cell_type": "code",
   "execution_count": 9,
   "metadata": {},
   "outputs": [
    {
     "name": "stdout",
     "output_type": "stream",
     "text": [
      " * sqlite:///week_associations.db\n",
      "Done.\n"
     ]
    },
    {
     "data": {
      "text/html": [
       "<table>\n",
       "    <tr>\n",
       "        <th>ap_1</th>\n",
       "        <th>ap_2</th>\n",
       "        <th>total_time</th>\n",
       "        <th>frequency</th>\n",
       "        <th>min_time</th>\n",
       "    </tr>\n",
       "    <tr>\n",
       "        <td>1106</td>\n",
       "        <td>412028</td>\n",
       "        <td>1150.4628760000342</td>\n",
       "        <td>1</td>\n",
       "        <td>1150.4628760000342</td>\n",
       "    </tr>\n",
       "    <tr>\n",
       "        <td>1106</td>\n",
       "        <td>412046</td>\n",
       "        <td>8666.911970000001</td>\n",
       "        <td>2</td>\n",
       "        <td>4332.140609000002</td>\n",
       "    </tr>\n",
       "    <tr>\n",
       "        <td>1106</td>\n",
       "        <td>412126</td>\n",
       "        <td>15732.078110000002</td>\n",
       "        <td>4</td>\n",
       "        <td>3565.275391000003</td>\n",
       "    </tr>\n",
       "    <tr>\n",
       "        <td>1106</td>\n",
       "        <td>412130</td>\n",
       "        <td>22974.635945999995</td>\n",
       "        <td>6</td>\n",
       "        <td>3524.078822999996</td>\n",
       "    </tr>\n",
       "    <tr>\n",
       "        <td>1106</td>\n",
       "        <td>412135</td>\n",
       "        <td>1147.9935530000366</td>\n",
       "        <td>1</td>\n",
       "        <td>1147.9935530000366</td>\n",
       "    </tr>\n",
       "</table>"
      ],
      "text/plain": [
       "[(1106, 412028, 1150.4628760000342, 1, 1150.4628760000342),\n",
       " (1106, 412046, 8666.911970000001, 2, 4332.140609000002),\n",
       " (1106, 412126, 15732.078110000002, 4, 3565.275391000003),\n",
       " (1106, 412130, 22974.635945999995, 6, 3524.078822999996),\n",
       " (1106, 412135, 1147.9935530000366, 1, 1147.9935530000366)]"
      ]
     },
     "execution_count": 9,
     "metadata": {},
     "output_type": "execute_result"
    }
   ],
   "source": [
    "%%sql\n",
    "\n",
    "SELECT * FROM associations_results LIMIT 5; "
   ]
  },
  {
   "cell_type": "code",
   "execution_count": 10,
   "metadata": {},
   "outputs": [],
   "source": [
    "# export csv or zip file if too big"
   ]
  },
  {
   "cell_type": "code",
   "execution_count": 11,
   "metadata": {},
   "outputs": [
    {
     "name": "stdout",
     "output_type": "stream",
     "text": [
      " * sqlite:///week_associations.db\n",
      "Done.\n"
     ]
    }
   ],
   "source": [
    "result = %sql SELECT * FROM associations_results\n",
    "result_df = result.DataFrame()"
   ]
  },
  {
   "cell_type": "code",
   "execution_count": 12,
   "metadata": {},
   "outputs": [],
   "source": [
    "cwd = os.getcwd()\n",
    "path = cwd + \"/2021_04_01_week_associations_times.csv\"\n",
    "result_df.to_csv(path, index=False)"
   ]
  },
  {
   "cell_type": "code",
   "execution_count": null,
   "metadata": {},
   "outputs": [],
   "source": []
  }
 ],
 "metadata": {
  "kernelspec": {
   "display_name": "Python 3",
   "language": "python",
   "name": "python3"
  },
  "language_info": {
   "codemirror_mode": {
    "name": "ipython",
    "version": 3
   },
   "file_extension": ".py",
   "mimetype": "text/x-python",
   "name": "python",
   "nbconvert_exporter": "python",
   "pygments_lexer": "ipython3",
   "version": "3.6.9"
  }
 },
 "nbformat": 4,
 "nbformat_minor": 2
}
