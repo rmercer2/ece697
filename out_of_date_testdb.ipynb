{
 "cells": [
  {
   "cell_type": "code",
   "execution_count": 4,
   "metadata": {},
   "outputs": [],
   "source": [
    "import numpy as np\n",
    "import matplotlib.pyplot as plt\n",
    "import pandas as pd\n",
    "from pandasql import sqldf\n",
    "from sqlalchemy import create_engine"
   ]
  },
  {
   "cell_type": "code",
   "execution_count": 5,
   "metadata": {},
   "outputs": [],
   "source": [
    "connection_to_db = create_engine('sqlite:///associations.db')"
   ]
  },
  {
   "cell_type": "code",
   "execution_count": 6,
   "metadata": {},
   "outputs": [],
   "source": [
    "%load_ext sql\n",
    "%sql sqlite:///associations.db"
   ]
  },
  {
   "cell_type": "code",
   "execution_count": 7,
   "metadata": {},
   "outputs": [
    {
     "name": "stdout",
     "output_type": "stream",
     "text": [
      " * sqlite:///associations.db\n",
      "Done.\n"
     ]
    },
    {
     "data": {
      "text/html": [
       "<table>\n",
       "    <tr>\n",
       "        <th>station_id</th>\n",
       "        <th>ap_1</th>\n",
       "        <th>ap_2</th>\n",
       "        <th>t1</th>\n",
       "        <th>t2</th>\n",
       "        <th>time_apart</th>\n",
       "        <th>time_diff</th>\n",
       "    </tr>\n",
       "    <tr>\n",
       "        <td>1025503</td>\n",
       "        <td>412914</td>\n",
       "        <td>413772</td>\n",
       "        <td>2021-04-01 00:00:00.088007</td>\n",
       "        <td>2021-04-01 00:00:21.692255</td>\n",
       "        <td>None</td>\n",
       "        <td>None</td>\n",
       "    </tr>\n",
       "    <tr>\n",
       "        <td>1025503</td>\n",
       "        <td>412914</td>\n",
       "        <td>412996</td>\n",
       "        <td>2021-04-01 00:00:00.088007</td>\n",
       "        <td>2021-04-01 00:00:29.930613</td>\n",
       "        <td>None</td>\n",
       "        <td>None</td>\n",
       "    </tr>\n",
       "    <tr>\n",
       "        <td>1025503</td>\n",
       "        <td>412914</td>\n",
       "        <td>416512</td>\n",
       "        <td>2021-04-01 00:00:00.088007</td>\n",
       "        <td>2021-04-01 00:00:34.193936</td>\n",
       "        <td>None</td>\n",
       "        <td>None</td>\n",
       "    </tr>\n",
       "    <tr>\n",
       "        <td>1025503</td>\n",
       "        <td>412914</td>\n",
       "        <td>415462</td>\n",
       "        <td>2021-04-01 00:00:00.088007</td>\n",
       "        <td>2021-04-01 00:00:48.611063</td>\n",
       "        <td>None</td>\n",
       "        <td>None</td>\n",
       "    </tr>\n",
       "    <tr>\n",
       "        <td>1025503</td>\n",
       "        <td>412914</td>\n",
       "        <td>415462</td>\n",
       "        <td>2021-04-01 00:00:00.088007</td>\n",
       "        <td>2021-04-01 00:01:08.961677</td>\n",
       "        <td>None</td>\n",
       "        <td>None</td>\n",
       "    </tr>\n",
       "</table>"
      ],
      "text/plain": [
       "[(1025503, 412914, 413772, '2021-04-01 00:00:00.088007', '2021-04-01 00:00:21.692255', None, None),\n",
       " (1025503, 412914, 412996, '2021-04-01 00:00:00.088007', '2021-04-01 00:00:29.930613', None, None),\n",
       " (1025503, 412914, 416512, '2021-04-01 00:00:00.088007', '2021-04-01 00:00:34.193936', None, None),\n",
       " (1025503, 412914, 415462, '2021-04-01 00:00:00.088007', '2021-04-01 00:00:48.611063', None, None),\n",
       " (1025503, 412914, 415462, '2021-04-01 00:00:00.088007', '2021-04-01 00:01:08.961677', None, None)]"
      ]
     },
     "execution_count": 7,
     "metadata": {},
     "output_type": "execute_result"
    }
   ],
   "source": [
    "%%sql\n",
    "select * from associations_cross limit 5;"
   ]
  },
  {
   "cell_type": "code",
   "execution_count": 17,
   "metadata": {},
   "outputs": [
    {
     "name": "stdout",
     "output_type": "stream",
     "text": [
      " * sqlite:///associations.db\n",
      "(sqlite3.OperationalError) near \"drop\": syntax error\n",
      "[SQL: alter table associations_cross drop column time_diff;]\n",
      "(Background on this error at: http://sqlalche.me/e/14/e3q8)\n"
     ]
    }
   ],
   "source": [
    "%%sql \n",
    "alter table associations_cross\n",
    "drop column time_diff;"
   ]
  },
  {
   "cell_type": "code",
   "execution_count": 18,
   "metadata": {},
   "outputs": [
    {
     "name": "stdout",
     "output_type": "stream",
     "text": [
      " * sqlite:///associations.db\n",
      "Done.\n"
     ]
    },
    {
     "data": {
      "text/html": [
       "<table>\n",
       "    <tr>\n",
       "        <th>station_id</th>\n",
       "        <th>ap_1</th>\n",
       "        <th>ap_2</th>\n",
       "        <th>t1</th>\n",
       "        <th>t2</th>\n",
       "        <th>time_apart</th>\n",
       "        <th>time_diff</th>\n",
       "    </tr>\n",
       "    <tr>\n",
       "        <td>1025503</td>\n",
       "        <td>412914</td>\n",
       "        <td>413772</td>\n",
       "        <td>2021-04-01 00:00:00.088007</td>\n",
       "        <td>2021-04-01 00:00:21.692255</td>\n",
       "        <td>None</td>\n",
       "        <td>None</td>\n",
       "    </tr>\n",
       "    <tr>\n",
       "        <td>1025503</td>\n",
       "        <td>412914</td>\n",
       "        <td>412996</td>\n",
       "        <td>2021-04-01 00:00:00.088007</td>\n",
       "        <td>2021-04-01 00:00:29.930613</td>\n",
       "        <td>None</td>\n",
       "        <td>None</td>\n",
       "    </tr>\n",
       "    <tr>\n",
       "        <td>1025503</td>\n",
       "        <td>412914</td>\n",
       "        <td>416512</td>\n",
       "        <td>2021-04-01 00:00:00.088007</td>\n",
       "        <td>2021-04-01 00:00:34.193936</td>\n",
       "        <td>None</td>\n",
       "        <td>None</td>\n",
       "    </tr>\n",
       "    <tr>\n",
       "        <td>1025503</td>\n",
       "        <td>412914</td>\n",
       "        <td>415462</td>\n",
       "        <td>2021-04-01 00:00:00.088007</td>\n",
       "        <td>2021-04-01 00:00:48.611063</td>\n",
       "        <td>None</td>\n",
       "        <td>None</td>\n",
       "    </tr>\n",
       "    <tr>\n",
       "        <td>1025503</td>\n",
       "        <td>412914</td>\n",
       "        <td>415462</td>\n",
       "        <td>2021-04-01 00:00:00.088007</td>\n",
       "        <td>2021-04-01 00:01:08.961677</td>\n",
       "        <td>None</td>\n",
       "        <td>None</td>\n",
       "    </tr>\n",
       "</table>"
      ],
      "text/plain": [
       "[(1025503, 412914, 413772, '2021-04-01 00:00:00.088007', '2021-04-01 00:00:21.692255', None, None),\n",
       " (1025503, 412914, 412996, '2021-04-01 00:00:00.088007', '2021-04-01 00:00:29.930613', None, None),\n",
       " (1025503, 412914, 416512, '2021-04-01 00:00:00.088007', '2021-04-01 00:00:34.193936', None, None),\n",
       " (1025503, 412914, 415462, '2021-04-01 00:00:00.088007', '2021-04-01 00:00:48.611063', None, None),\n",
       " (1025503, 412914, 415462, '2021-04-01 00:00:00.088007', '2021-04-01 00:01:08.961677', None, None)]"
      ]
     },
     "execution_count": 18,
     "metadata": {},
     "output_type": "execute_result"
    }
   ],
   "source": [
    "%%sql\n",
    "select * from associations_cross limit 5;"
   ]
  },
  {
   "cell_type": "code",
   "execution_count": null,
   "metadata": {},
   "outputs": [],
   "source": [
    "%%sql \n",
    "create table results as select\n",
    "ap_1,\n",
    "ap_2,\n",
    "t1,\n",
    "t2 from associations_cross;"
   ]
  },
  {
   "cell_type": "code",
   "execution_count": 16,
   "metadata": {},
   "outputs": [],
   "source": [
    "# function to compute time given two timestamps\n",
    "def time_difference(t1, t2):\n",
    "  str1 = t1.split()\n",
    "  str2 = t2.split()\n",
    "  FMT = '%H:%M:%S.%f'\n",
    "  tdelta = datetime.strptime(str2[1], FMT) - datetime.strptime(str1[1], FMT)\n",
    "  return tdelta"
   ]
  },
  {
   "cell_type": "code",
   "execution_count": null,
   "metadata": {},
   "outputs": [
    {
     "name": "stdout",
     "output_type": "stream",
     "text": [
      " * sqlite:///associations.db\n",
      "Done.\n"
     ]
    }
   ],
   "source": [
    "res = %sql select * from associations_cross\n",
    "res_df = res.DataFrame()"
   ]
  },
  {
   "cell_type": "code",
   "execution_count": 1,
   "metadata": {},
   "outputs": [
    {
     "ename": "NameError",
     "evalue": "name 'res_df' is not defined",
     "output_type": "error",
     "traceback": [
      "\u001b[0;31m\u001b[0m",
      "\u001b[0;31mNameError\u001b[0mTraceback (most recent call last)",
      "\u001b[0;32m<ipython-input-1-5423120a5da1>\u001b[0m in \u001b[0;36m<module>\u001b[0;34m\u001b[0m\n\u001b[0;32m----> 1\u001b[0;31m \u001b[0mres_df\u001b[0m\u001b[0;34m\u001b[0m\u001b[0;34m\u001b[0m\u001b[0m\n\u001b[0m",
      "\u001b[0;31mNameError\u001b[0m: name 'res_df' is not defined"
     ]
    }
   ],
   "source": [
    "res_df"
   ]
  },
  {
   "cell_type": "code",
   "execution_count": null,
   "metadata": {},
   "outputs": [],
   "source": []
  }
 ],
 "metadata": {
  "kernelspec": {
   "display_name": "Python 3",
   "language": "python",
   "name": "python3"
  },
  "language_info": {
   "codemirror_mode": {
    "name": "ipython",
    "version": 3
   },
   "file_extension": ".py",
   "mimetype": "text/x-python",
   "name": "python",
   "nbconvert_exporter": "python",
   "pygments_lexer": "ipython3",
   "version": "3.6.9"
  }
 },
 "nbformat": 4,
 "nbformat_minor": 2
}
