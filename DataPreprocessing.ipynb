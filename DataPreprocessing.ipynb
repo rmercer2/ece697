{
 "cells": [
  {
   "cell_type": "code",
   "execution_count": 1,
   "metadata": {},
   "outputs": [],
   "source": [
    "import numpy as np\n",
    "import matplotlib.pyplot as plt\n",
    "import pandas as pd\n",
    "from pandasql import sqldf\n",
    "from sqlalchemy import create_engine\n",
    "\n",
    "from datetime import datetime\n",
    "from datetime import timedelta"
   ]
  },
  {
   "cell_type": "code",
   "execution_count": 82,
   "metadata": {},
   "outputs": [],
   "source": [
    "import os, sys"
   ]
  },
  {
   "cell_type": "code",
   "execution_count": 2,
   "metadata": {},
   "outputs": [
    {
     "data": {
      "text/html": [
       "<div>\n",
       "<style scoped>\n",
       "    .dataframe tbody tr th:only-of-type {\n",
       "        vertical-align: middle;\n",
       "    }\n",
       "\n",
       "    .dataframe tbody tr th {\n",
       "        vertical-align: top;\n",
       "    }\n",
       "\n",
       "    .dataframe thead th {\n",
       "        text-align: right;\n",
       "    }\n",
       "</style>\n",
       "<table border=\"1\" class=\"dataframe\">\n",
       "  <thead>\n",
       "    <tr style=\"text-align: right;\">\n",
       "      <th></th>\n",
       "      <th>start_time</th>\n",
       "      <th>installation_id</th>\n",
       "      <th>station_id</th>\n",
       "    </tr>\n",
       "  </thead>\n",
       "  <tbody>\n",
       "    <tr>\n",
       "      <th>0</th>\n",
       "      <td>2021-04-01 00:00:00.088007</td>\n",
       "      <td>412914</td>\n",
       "      <td>1025503</td>\n",
       "    </tr>\n",
       "    <tr>\n",
       "      <th>1</th>\n",
       "      <td>2021-04-01 00:00:00.107122</td>\n",
       "      <td>413884</td>\n",
       "      <td>985795</td>\n",
       "    </tr>\n",
       "    <tr>\n",
       "      <th>2</th>\n",
       "      <td>2021-04-01 00:00:00.199838</td>\n",
       "      <td>418743</td>\n",
       "      <td>876082</td>\n",
       "    </tr>\n",
       "    <tr>\n",
       "      <th>3</th>\n",
       "      <td>2021-04-01 00:00:00.244472</td>\n",
       "      <td>419447</td>\n",
       "      <td>883379</td>\n",
       "    </tr>\n",
       "    <tr>\n",
       "      <th>4</th>\n",
       "      <td>2021-04-01 00:00:00.352282</td>\n",
       "      <td>413584</td>\n",
       "      <td>855284</td>\n",
       "    </tr>\n",
       "    <tr>\n",
       "      <th>...</th>\n",
       "      <td>...</td>\n",
       "      <td>...</td>\n",
       "      <td>...</td>\n",
       "    </tr>\n",
       "    <tr>\n",
       "      <th>2066168</th>\n",
       "      <td>2021-04-01 23:59:59.494044</td>\n",
       "      <td>413406</td>\n",
       "      <td>972273</td>\n",
       "    </tr>\n",
       "    <tr>\n",
       "      <th>2066169</th>\n",
       "      <td>2021-04-01 23:59:59.513663</td>\n",
       "      <td>412357</td>\n",
       "      <td>969521</td>\n",
       "    </tr>\n",
       "    <tr>\n",
       "      <th>2066170</th>\n",
       "      <td>2021-04-01 23:59:59.602626</td>\n",
       "      <td>415752</td>\n",
       "      <td>1005312</td>\n",
       "    </tr>\n",
       "    <tr>\n",
       "      <th>2066171</th>\n",
       "      <td>2021-04-01 23:59:59.625039</td>\n",
       "      <td>420719</td>\n",
       "      <td>957148</td>\n",
       "    </tr>\n",
       "    <tr>\n",
       "      <th>2066172</th>\n",
       "      <td>2021-04-01 23:59:59.770060</td>\n",
       "      <td>412235</td>\n",
       "      <td>863753</td>\n",
       "    </tr>\n",
       "  </tbody>\n",
       "</table>\n",
       "<p>2066173 rows × 3 columns</p>\n",
       "</div>"
      ],
      "text/plain": [
       "                         start_time  installation_id  station_id\n",
       "0        2021-04-01 00:00:00.088007           412914     1025503\n",
       "1        2021-04-01 00:00:00.107122           413884      985795\n",
       "2        2021-04-01 00:00:00.199838           418743      876082\n",
       "3        2021-04-01 00:00:00.244472           419447      883379\n",
       "4        2021-04-01 00:00:00.352282           413584      855284\n",
       "...                             ...              ...         ...\n",
       "2066168  2021-04-01 23:59:59.494044           413406      972273\n",
       "2066169  2021-04-01 23:59:59.513663           412357      969521\n",
       "2066170  2021-04-01 23:59:59.602626           415752     1005312\n",
       "2066171  2021-04-01 23:59:59.625039           420719      957148\n",
       "2066172  2021-04-01 23:59:59.770060           412235      863753\n",
       "\n",
       "[2066173 rows x 3 columns]"
      ]
     },
     "execution_count": 2,
     "metadata": {},
     "output_type": "execute_result"
    }
   ],
   "source": [
    "##################\n",
    "# import raw data\n",
    "##################\n",
    "df = pd.read_csv('https://uwmadison.box.com/shared/static/6ff20fwvm1ejtk4wfo37e9o7e60y7y5d.gz')\n",
    "df"
   ]
  },
  {
   "cell_type": "code",
   "execution_count": 30,
   "metadata": {},
   "outputs": [],
   "source": [
    "##################################################\n",
    "# function for integer time since 0 on current day\n",
    "##################################################\n",
    "def time_apart(t):\n",
    "    str1 = t.split()\n",
    "    h, m, s = str1[1].split(':')\n",
    "    return int(h) * 3600 + int(m) * 60 + float(s)"
   ]
  },
  {
   "cell_type": "code",
   "execution_count": 45,
   "metadata": {},
   "outputs": [
    {
     "data": {
      "text/html": [
       "<div>\n",
       "<style scoped>\n",
       "    .dataframe tbody tr th:only-of-type {\n",
       "        vertical-align: middle;\n",
       "    }\n",
       "\n",
       "    .dataframe tbody tr th {\n",
       "        vertical-align: top;\n",
       "    }\n",
       "\n",
       "    .dataframe thead th {\n",
       "        text-align: right;\n",
       "    }\n",
       "</style>\n",
       "<table border=\"1\" class=\"dataframe\">\n",
       "  <thead>\n",
       "    <tr style=\"text-align: right;\">\n",
       "      <th></th>\n",
       "      <th>start_time</th>\n",
       "      <th>installation_id</th>\n",
       "      <th>station_id</th>\n",
       "      <th>time_stamp</th>\n",
       "    </tr>\n",
       "  </thead>\n",
       "  <tbody>\n",
       "    <tr>\n",
       "      <th>0</th>\n",
       "      <td>2021-04-01 00:00:00.088007</td>\n",
       "      <td>412914</td>\n",
       "      <td>1025503</td>\n",
       "      <td>0.088007</td>\n",
       "    </tr>\n",
       "    <tr>\n",
       "      <th>1</th>\n",
       "      <td>2021-04-01 00:00:00.107122</td>\n",
       "      <td>413884</td>\n",
       "      <td>985795</td>\n",
       "      <td>0.107122</td>\n",
       "    </tr>\n",
       "    <tr>\n",
       "      <th>2</th>\n",
       "      <td>2021-04-01 00:00:00.199838</td>\n",
       "      <td>418743</td>\n",
       "      <td>876082</td>\n",
       "      <td>0.199838</td>\n",
       "    </tr>\n",
       "    <tr>\n",
       "      <th>3</th>\n",
       "      <td>2021-04-01 00:00:00.244472</td>\n",
       "      <td>419447</td>\n",
       "      <td>883379</td>\n",
       "      <td>0.244472</td>\n",
       "    </tr>\n",
       "    <tr>\n",
       "      <th>4</th>\n",
       "      <td>2021-04-01 00:00:00.352282</td>\n",
       "      <td>413584</td>\n",
       "      <td>855284</td>\n",
       "      <td>0.352282</td>\n",
       "    </tr>\n",
       "    <tr>\n",
       "      <th>...</th>\n",
       "      <td>...</td>\n",
       "      <td>...</td>\n",
       "      <td>...</td>\n",
       "      <td>...</td>\n",
       "    </tr>\n",
       "    <tr>\n",
       "      <th>2066168</th>\n",
       "      <td>2021-04-01 23:59:59.494044</td>\n",
       "      <td>413406</td>\n",
       "      <td>972273</td>\n",
       "      <td>86399.494044</td>\n",
       "    </tr>\n",
       "    <tr>\n",
       "      <th>2066169</th>\n",
       "      <td>2021-04-01 23:59:59.513663</td>\n",
       "      <td>412357</td>\n",
       "      <td>969521</td>\n",
       "      <td>86399.513663</td>\n",
       "    </tr>\n",
       "    <tr>\n",
       "      <th>2066170</th>\n",
       "      <td>2021-04-01 23:59:59.602626</td>\n",
       "      <td>415752</td>\n",
       "      <td>1005312</td>\n",
       "      <td>86399.602626</td>\n",
       "    </tr>\n",
       "    <tr>\n",
       "      <th>2066171</th>\n",
       "      <td>2021-04-01 23:59:59.625039</td>\n",
       "      <td>420719</td>\n",
       "      <td>957148</td>\n",
       "      <td>86399.625039</td>\n",
       "    </tr>\n",
       "    <tr>\n",
       "      <th>2066172</th>\n",
       "      <td>2021-04-01 23:59:59.770060</td>\n",
       "      <td>412235</td>\n",
       "      <td>863753</td>\n",
       "      <td>86399.770060</td>\n",
       "    </tr>\n",
       "  </tbody>\n",
       "</table>\n",
       "<p>2066173 rows × 4 columns</p>\n",
       "</div>"
      ],
      "text/plain": [
       "                         start_time  installation_id  station_id    time_stamp\n",
       "0        2021-04-01 00:00:00.088007           412914     1025503      0.088007\n",
       "1        2021-04-01 00:00:00.107122           413884      985795      0.107122\n",
       "2        2021-04-01 00:00:00.199838           418743      876082      0.199838\n",
       "3        2021-04-01 00:00:00.244472           419447      883379      0.244472\n",
       "4        2021-04-01 00:00:00.352282           413584      855284      0.352282\n",
       "...                             ...              ...         ...           ...\n",
       "2066168  2021-04-01 23:59:59.494044           413406      972273  86399.494044\n",
       "2066169  2021-04-01 23:59:59.513663           412357      969521  86399.513663\n",
       "2066170  2021-04-01 23:59:59.602626           415752     1005312  86399.602626\n",
       "2066171  2021-04-01 23:59:59.625039           420719      957148  86399.625039\n",
       "2066172  2021-04-01 23:59:59.770060           412235      863753  86399.770060\n",
       "\n",
       "[2066173 rows x 4 columns]"
      ]
     },
     "execution_count": 45,
     "metadata": {},
     "output_type": "execute_result"
    }
   ],
   "source": [
    "# get dates as integers of seconds since time 0 on given day\n",
    "df['time_stamp'] = df.apply(lambda row : time_apart(row['start_time']), axis = 1)"
   ]
  },
  {
   "cell_type": "code",
   "execution_count": 46,
   "metadata": {},
   "outputs": [
    {
     "data": {
      "text/html": [
       "<div>\n",
       "<style scoped>\n",
       "    .dataframe tbody tr th:only-of-type {\n",
       "        vertical-align: middle;\n",
       "    }\n",
       "\n",
       "    .dataframe tbody tr th {\n",
       "        vertical-align: top;\n",
       "    }\n",
       "\n",
       "    .dataframe thead th {\n",
       "        text-align: right;\n",
       "    }\n",
       "</style>\n",
       "<table border=\"1\" class=\"dataframe\">\n",
       "  <thead>\n",
       "    <tr style=\"text-align: right;\">\n",
       "      <th></th>\n",
       "      <th>start_time</th>\n",
       "      <th>installation_id</th>\n",
       "      <th>station_id</th>\n",
       "      <th>time_stamp</th>\n",
       "    </tr>\n",
       "  </thead>\n",
       "  <tbody>\n",
       "    <tr>\n",
       "      <th>0</th>\n",
       "      <td>2021-04-01 00:00:00.088007</td>\n",
       "      <td>412914</td>\n",
       "      <td>1025503</td>\n",
       "      <td>0.088007</td>\n",
       "    </tr>\n",
       "    <tr>\n",
       "      <th>1</th>\n",
       "      <td>2021-04-01 00:00:00.107122</td>\n",
       "      <td>413884</td>\n",
       "      <td>985795</td>\n",
       "      <td>0.107122</td>\n",
       "    </tr>\n",
       "    <tr>\n",
       "      <th>2</th>\n",
       "      <td>2021-04-01 00:00:00.199838</td>\n",
       "      <td>418743</td>\n",
       "      <td>876082</td>\n",
       "      <td>0.199838</td>\n",
       "    </tr>\n",
       "    <tr>\n",
       "      <th>3</th>\n",
       "      <td>2021-04-01 00:00:00.244472</td>\n",
       "      <td>419447</td>\n",
       "      <td>883379</td>\n",
       "      <td>0.244472</td>\n",
       "    </tr>\n",
       "    <tr>\n",
       "      <th>4</th>\n",
       "      <td>2021-04-01 00:00:00.352282</td>\n",
       "      <td>413584</td>\n",
       "      <td>855284</td>\n",
       "      <td>0.352282</td>\n",
       "    </tr>\n",
       "    <tr>\n",
       "      <th>...</th>\n",
       "      <td>...</td>\n",
       "      <td>...</td>\n",
       "      <td>...</td>\n",
       "      <td>...</td>\n",
       "    </tr>\n",
       "    <tr>\n",
       "      <th>2066168</th>\n",
       "      <td>2021-04-01 23:59:59.494044</td>\n",
       "      <td>413406</td>\n",
       "      <td>972273</td>\n",
       "      <td>86399.494044</td>\n",
       "    </tr>\n",
       "    <tr>\n",
       "      <th>2066169</th>\n",
       "      <td>2021-04-01 23:59:59.513663</td>\n",
       "      <td>412357</td>\n",
       "      <td>969521</td>\n",
       "      <td>86399.513663</td>\n",
       "    </tr>\n",
       "    <tr>\n",
       "      <th>2066170</th>\n",
       "      <td>2021-04-01 23:59:59.602626</td>\n",
       "      <td>415752</td>\n",
       "      <td>1005312</td>\n",
       "      <td>86399.602626</td>\n",
       "    </tr>\n",
       "    <tr>\n",
       "      <th>2066171</th>\n",
       "      <td>2021-04-01 23:59:59.625039</td>\n",
       "      <td>420719</td>\n",
       "      <td>957148</td>\n",
       "      <td>86399.625039</td>\n",
       "    </tr>\n",
       "    <tr>\n",
       "      <th>2066172</th>\n",
       "      <td>2021-04-01 23:59:59.770060</td>\n",
       "      <td>412235</td>\n",
       "      <td>863753</td>\n",
       "      <td>86399.770060</td>\n",
       "    </tr>\n",
       "  </tbody>\n",
       "</table>\n",
       "<p>2066173 rows × 4 columns</p>\n",
       "</div>"
      ],
      "text/plain": [
       "                         start_time  installation_id  station_id    time_stamp\n",
       "0        2021-04-01 00:00:00.088007           412914     1025503      0.088007\n",
       "1        2021-04-01 00:00:00.107122           413884      985795      0.107122\n",
       "2        2021-04-01 00:00:00.199838           418743      876082      0.199838\n",
       "3        2021-04-01 00:00:00.244472           419447      883379      0.244472\n",
       "4        2021-04-01 00:00:00.352282           413584      855284      0.352282\n",
       "...                             ...              ...         ...           ...\n",
       "2066168  2021-04-01 23:59:59.494044           413406      972273  86399.494044\n",
       "2066169  2021-04-01 23:59:59.513663           412357      969521  86399.513663\n",
       "2066170  2021-04-01 23:59:59.602626           415752     1005312  86399.602626\n",
       "2066171  2021-04-01 23:59:59.625039           420719      957148  86399.625039\n",
       "2066172  2021-04-01 23:59:59.770060           412235      863753  86399.770060\n",
       "\n",
       "[2066173 rows x 4 columns]"
      ]
     },
     "execution_count": 46,
     "metadata": {},
     "output_type": "execute_result"
    }
   ],
   "source": [
    "df.drop(columns=['start_time'])\n",
    "df"
   ]
  },
  {
   "cell_type": "code",
   "execution_count": 50,
   "metadata": {},
   "outputs": [],
   "source": [
    "######################\n",
    "# create db connection\n",
    "######################\n",
    "connection_to_db = create_engine('sqlite:///associations.db')"
   ]
  },
  {
   "cell_type": "code",
   "execution_count": 60,
   "metadata": {},
   "outputs": [],
   "source": [
    "# table from raw data\n",
    "df.to_sql('associations', con=connection_to_db, if_exists='replace')"
   ]
  },
  {
   "cell_type": "code",
   "execution_count": 59,
   "metadata": {},
   "outputs": [
    {
     "name": "stdout",
     "output_type": "stream",
     "text": [
      "The sql extension is already loaded. To reload it, use:\n",
      "  %reload_ext sql\n"
     ]
    }
   ],
   "source": [
    "# run first time\n",
    "%load_ext sql\n",
    "%sql sqlite:///associations.db"
   ]
  },
  {
   "cell_type": "code",
   "execution_count": 61,
   "metadata": {},
   "outputs": [],
   "source": [
    "# otherwise run this\n",
    "%reload_ext sql\n",
    "%sql sqlite:///associations.db"
   ]
  },
  {
   "cell_type": "code",
   "execution_count": 63,
   "metadata": {},
   "outputs": [
    {
     "name": "stdout",
     "output_type": "stream",
     "text": [
      " * sqlite:///associations.db\n",
      "Done.\n"
     ]
    },
    {
     "data": {
      "text/html": [
       "<table>\n",
       "    <tr>\n",
       "        <th>index</th>\n",
       "        <th>start_time</th>\n",
       "        <th>installation_id</th>\n",
       "        <th>station_id</th>\n",
       "        <th>time_stamp</th>\n",
       "    </tr>\n",
       "    <tr>\n",
       "        <td>0</td>\n",
       "        <td>2021-04-01 00:00:00.088007</td>\n",
       "        <td>412914</td>\n",
       "        <td>1025503</td>\n",
       "        <td>0.088007</td>\n",
       "    </tr>\n",
       "    <tr>\n",
       "        <td>1</td>\n",
       "        <td>2021-04-01 00:00:00.107122</td>\n",
       "        <td>413884</td>\n",
       "        <td>985795</td>\n",
       "        <td>0.107122</td>\n",
       "    </tr>\n",
       "    <tr>\n",
       "        <td>2</td>\n",
       "        <td>2021-04-01 00:00:00.199838</td>\n",
       "        <td>418743</td>\n",
       "        <td>876082</td>\n",
       "        <td>0.199838</td>\n",
       "    </tr>\n",
       "    <tr>\n",
       "        <td>3</td>\n",
       "        <td>2021-04-01 00:00:00.244472</td>\n",
       "        <td>419447</td>\n",
       "        <td>883379</td>\n",
       "        <td>0.244472</td>\n",
       "    </tr>\n",
       "    <tr>\n",
       "        <td>4</td>\n",
       "        <td>2021-04-01 00:00:00.352282</td>\n",
       "        <td>413584</td>\n",
       "        <td>855284</td>\n",
       "        <td>0.352282</td>\n",
       "    </tr>\n",
       "</table>"
      ],
      "text/plain": [
       "[(0, '2021-04-01 00:00:00.088007', 412914, 1025503, 0.088007),\n",
       " (1, '2021-04-01 00:00:00.107122', 413884, 985795, 0.107122),\n",
       " (2, '2021-04-01 00:00:00.199838', 418743, 876082, 0.199838),\n",
       " (3, '2021-04-01 00:00:00.244472', 419447, 883379, 0.244472),\n",
       " (4, '2021-04-01 00:00:00.352282', 413584, 855284, 0.352282)]"
      ]
     },
     "execution_count": 63,
     "metadata": {},
     "output_type": "execute_result"
    }
   ],
   "source": [
    "%%sql\n",
    "\n",
    "SELECT * FROM associations LIMIT 5; "
   ]
  },
  {
   "cell_type": "code",
   "execution_count": null,
   "metadata": {},
   "outputs": [],
   "source": [
    "# builds associations_cross table\n",
    "# format:\n",
    "# station_id, ap_1, ap_2, t1, t2"
   ]
  },
  {
   "cell_type": "code",
   "execution_count": 65,
   "metadata": {},
   "outputs": [
    {
     "name": "stdout",
     "output_type": "stream",
     "text": [
      " * sqlite:///associations.db\n",
      "Done.\n"
     ]
    },
    {
     "data": {
      "text/plain": [
       "[]"
      ]
     },
     "execution_count": 65,
     "metadata": {},
     "output_type": "execute_result"
    }
   ],
   "source": [
    "%%sql\n",
    "\n",
    "create table associations_cross as select\n",
    "a.station_id, \n",
    "a.installation_id as ap_1,\n",
    "b.installation_id as ap_2,\n",
    "a.time_stamp as t1, \n",
    "b.time_stamp as t2\n",
    "from associations a join associations b on a.station_id = b.station_id;"
   ]
  },
  {
   "cell_type": "code",
   "execution_count": null,
   "metadata": {},
   "outputs": [],
   "source": [
    "# removes instances where station does not move"
   ]
  },
  {
   "cell_type": "code",
   "execution_count": 66,
   "metadata": {},
   "outputs": [
    {
     "name": "stdout",
     "output_type": "stream",
     "text": [
      " * sqlite:///associations.db\n",
      "1342052527 rows affected.\n"
     ]
    },
    {
     "data": {
      "text/plain": [
       "[]"
      ]
     },
     "execution_count": 66,
     "metadata": {},
     "output_type": "execute_result"
    }
   ],
   "source": [
    "%%sql\n",
    "delete from associations_cross where ap_1 = ap_2"
   ]
  },
  {
   "cell_type": "code",
   "execution_count": null,
   "metadata": {},
   "outputs": [],
   "source": [
    "# sanity check"
   ]
  },
  {
   "cell_type": "code",
   "execution_count": 67,
   "metadata": {},
   "outputs": [
    {
     "name": "stdout",
     "output_type": "stream",
     "text": [
      " * sqlite:///associations.db\n",
      "Done.\n"
     ]
    },
    {
     "data": {
      "text/html": [
       "<table>\n",
       "    <tr>\n",
       "        <th>station_id</th>\n",
       "        <th>ap_1</th>\n",
       "        <th>ap_2</th>\n",
       "        <th>t1</th>\n",
       "        <th>t2</th>\n",
       "    </tr>\n",
       "    <tr>\n",
       "        <td>1025503</td>\n",
       "        <td>412914</td>\n",
       "        <td>412744</td>\n",
       "        <td>0.088007</td>\n",
       "        <td>39428.796809</td>\n",
       "    </tr>\n",
       "    <tr>\n",
       "        <td>1025503</td>\n",
       "        <td>412914</td>\n",
       "        <td>412840</td>\n",
       "        <td>0.088007</td>\n",
       "        <td>64031.297609</td>\n",
       "    </tr>\n",
       "    <tr>\n",
       "        <td>1025503</td>\n",
       "        <td>412914</td>\n",
       "        <td>412870</td>\n",
       "        <td>0.088007</td>\n",
       "        <td>63917.439381</td>\n",
       "    </tr>\n",
       "    <tr>\n",
       "        <td>1025503</td>\n",
       "        <td>412914</td>\n",
       "        <td>412870</td>\n",
       "        <td>0.088007</td>\n",
       "        <td>64100.414458</td>\n",
       "    </tr>\n",
       "    <tr>\n",
       "        <td>1025503</td>\n",
       "        <td>412914</td>\n",
       "        <td>412915</td>\n",
       "        <td>0.088007</td>\n",
       "        <td>66805.114127</td>\n",
       "    </tr>\n",
       "</table>"
      ],
      "text/plain": [
       "[(1025503, 412914, 412744, 0.088007, 39428.796809),\n",
       " (1025503, 412914, 412840, 0.088007, 64031.297609),\n",
       " (1025503, 412914, 412870, 0.088007, 63917.439381),\n",
       " (1025503, 412914, 412870, 0.088007, 64100.414458),\n",
       " (1025503, 412914, 412915, 0.088007, 66805.114127)]"
      ]
     },
     "execution_count": 67,
     "metadata": {},
     "output_type": "execute_result"
    }
   ],
   "source": [
    "%%sql\n",
    "\n",
    "SELECT * FROM associations_cross LIMIT 5; "
   ]
  },
  {
   "cell_type": "code",
   "execution_count": null,
   "metadata": {},
   "outputs": [],
   "source": [
    "# calculate time differences"
   ]
  },
  {
   "cell_type": "code",
   "execution_count": 75,
   "metadata": {},
   "outputs": [
    {
     "name": "stdout",
     "output_type": "stream",
     "text": [
      " * sqlite:///associations.db\n",
      "Done.\n"
     ]
    },
    {
     "data": {
      "text/plain": [
       "[]"
      ]
     },
     "execution_count": 75,
     "metadata": {},
     "output_type": "execute_result"
    }
   ],
   "source": [
    "%%sql\n",
    "create table associations_differences as select\n",
    "a.station_id, \n",
    "a.ap_1,\n",
    "a.ap_2,\n",
    "abs(a.t2 - a.t1) as time_difference\n",
    "from associations_cross a;"
   ]
  },
  {
   "cell_type": "code",
   "execution_count": null,
   "metadata": {},
   "outputs": [],
   "source": [
    "# sanity check"
   ]
  },
  {
   "cell_type": "code",
   "execution_count": 76,
   "metadata": {},
   "outputs": [
    {
     "name": "stdout",
     "output_type": "stream",
     "text": [
      " * sqlite:///associations.db\n",
      "Done.\n"
     ]
    },
    {
     "data": {
      "text/html": [
       "<table>\n",
       "    <tr>\n",
       "        <th>station_id</th>\n",
       "        <th>ap_1</th>\n",
       "        <th>ap_2</th>\n",
       "        <th>time_difference</th>\n",
       "    </tr>\n",
       "    <tr>\n",
       "        <td>1025503</td>\n",
       "        <td>412914</td>\n",
       "        <td>412744</td>\n",
       "        <td>39428.708802</td>\n",
       "    </tr>\n",
       "    <tr>\n",
       "        <td>1025503</td>\n",
       "        <td>412914</td>\n",
       "        <td>412840</td>\n",
       "        <td>64031.209602</td>\n",
       "    </tr>\n",
       "    <tr>\n",
       "        <td>1025503</td>\n",
       "        <td>412914</td>\n",
       "        <td>412870</td>\n",
       "        <td>63917.351374</td>\n",
       "    </tr>\n",
       "    <tr>\n",
       "        <td>1025503</td>\n",
       "        <td>412914</td>\n",
       "        <td>412870</td>\n",
       "        <td>64100.326451</td>\n",
       "    </tr>\n",
       "    <tr>\n",
       "        <td>1025503</td>\n",
       "        <td>412914</td>\n",
       "        <td>412915</td>\n",
       "        <td>66805.02612</td>\n",
       "    </tr>\n",
       "</table>"
      ],
      "text/plain": [
       "[(1025503, 412914, 412744, 39428.708802),\n",
       " (1025503, 412914, 412840, 64031.209602),\n",
       " (1025503, 412914, 412870, 63917.351374),\n",
       " (1025503, 412914, 412870, 64100.326451),\n",
       " (1025503, 412914, 412915, 66805.02612)]"
      ]
     },
     "execution_count": 76,
     "metadata": {},
     "output_type": "execute_result"
    }
   ],
   "source": [
    "%%sql\n",
    "\n",
    "SELECT * FROM associations_differences LIMIT 5; "
   ]
  },
  {
   "cell_type": "code",
   "execution_count": null,
   "metadata": {},
   "outputs": [],
   "source": [
    "# join instances where ap_1 == ap_1 AND ap_2 == ap_2\n",
    "# add col for count\n",
    "# add col for sum of time_stamps"
   ]
  },
  {
   "cell_type": "code",
   "execution_count": 77,
   "metadata": {},
   "outputs": [
    {
     "name": "stdout",
     "output_type": "stream",
     "text": [
      " * sqlite:///associations.db\n",
      "Done.\n"
     ]
    },
    {
     "data": {
      "text/plain": [
       "[]"
      ]
     },
     "execution_count": 77,
     "metadata": {},
     "output_type": "execute_result"
    }
   ],
   "source": [
    "%%sql\n",
    "create table associations_results as select\n",
    "ap_1,\n",
    "ap_2,\n",
    "sum(time_difference) as total_time,\n",
    "count(*) as frequency\n",
    "from associations_differences\n",
    "group by\n",
    "ap_1,\n",
    "ap_2;"
   ]
  },
  {
   "cell_type": "code",
   "execution_count": null,
   "metadata": {},
   "outputs": [],
   "source": [
    "# sanity check"
   ]
  },
  {
   "cell_type": "code",
   "execution_count": 78,
   "metadata": {},
   "outputs": [
    {
     "name": "stdout",
     "output_type": "stream",
     "text": [
      " * sqlite:///associations.db\n",
      "Done.\n"
     ]
    },
    {
     "data": {
      "text/html": [
       "<table>\n",
       "    <tr>\n",
       "        <th>ap_1</th>\n",
       "        <th>ap_2</th>\n",
       "        <th>total_time</th>\n",
       "        <th>frequency</th>\n",
       "    </tr>\n",
       "    <tr>\n",
       "        <td>1106</td>\n",
       "        <td>412046</td>\n",
       "        <td>8666.911969999994</td>\n",
       "        <td>2</td>\n",
       "    </tr>\n",
       "    <tr>\n",
       "        <td>1106</td>\n",
       "        <td>412126</td>\n",
       "        <td>15732.078110000002</td>\n",
       "        <td>4</td>\n",
       "    </tr>\n",
       "    <tr>\n",
       "        <td>1106</td>\n",
       "        <td>412130</td>\n",
       "        <td>22974.635945999988</td>\n",
       "        <td>6</td>\n",
       "    </tr>\n",
       "    <tr>\n",
       "        <td>1106</td>\n",
       "        <td>412153</td>\n",
       "        <td>24848.284046000008</td>\n",
       "        <td>6</td>\n",
       "    </tr>\n",
       "    <tr>\n",
       "        <td>1106</td>\n",
       "        <td>412329</td>\n",
       "        <td>8791.733820000001</td>\n",
       "        <td>2</td>\n",
       "    </tr>\n",
       "</table>"
      ],
      "text/plain": [
       "[(1106, 412046, 8666.911969999994, 2),\n",
       " (1106, 412126, 15732.078110000002, 4),\n",
       " (1106, 412130, 22974.635945999988, 6),\n",
       " (1106, 412153, 24848.284046000008, 6),\n",
       " (1106, 412329, 8791.733820000001, 2)]"
      ]
     },
     "execution_count": 78,
     "metadata": {},
     "output_type": "execute_result"
    }
   ],
   "source": [
    "%%sql\n",
    "\n",
    "SELECT * FROM associations_results LIMIT 5; "
   ]
  },
  {
   "cell_type": "code",
   "execution_count": null,
   "metadata": {},
   "outputs": [],
   "source": [
    "# export csv or zip file if too big"
   ]
  },
  {
   "cell_type": "code",
   "execution_count": 80,
   "metadata": {},
   "outputs": [
    {
     "name": "stdout",
     "output_type": "stream",
     "text": [
      " * sqlite:///associations.db\n",
      "Done.\n"
     ]
    }
   ],
   "source": [
    "result = %sql SELECT * FROM associations_results\n",
    "result_df = result.DataFrame()"
   ]
  },
  {
   "cell_type": "code",
   "execution_count": 86,
   "metadata": {},
   "outputs": [
    {
     "ename": "KeyboardInterrupt",
     "evalue": "",
     "output_type": "error",
     "traceback": [
      "\u001b[0;31m\u001b[0m",
      "\u001b[0;31mKeyboardInterrupt\u001b[0mTraceback (most recent call last)",
      "\u001b[0;32m<ipython-input-86-415a7556bc4e>\u001b[0m in \u001b[0;36m<module>\u001b[0;34m\u001b[0m\n\u001b[1;32m      1\u001b[0m \u001b[0mcwd\u001b[0m \u001b[0;34m=\u001b[0m \u001b[0mos\u001b[0m\u001b[0;34m.\u001b[0m\u001b[0mgetcwd\u001b[0m\u001b[0;34m(\u001b[0m\u001b[0;34m)\u001b[0m\u001b[0;34m\u001b[0m\u001b[0;34m\u001b[0m\u001b[0m\n\u001b[1;32m      2\u001b[0m \u001b[0mpath\u001b[0m \u001b[0;34m=\u001b[0m \u001b[0mcwd\u001b[0m \u001b[0;34m+\u001b[0m \u001b[0;34m\"/associations_times.csv\"\u001b[0m\u001b[0;34m\u001b[0m\u001b[0;34m\u001b[0m\u001b[0m\n\u001b[0;32m----> 3\u001b[0;31m \u001b[0mresult_df\u001b[0m\u001b[0;34m.\u001b[0m\u001b[0mto_csv\u001b[0m\u001b[0;34m(\u001b[0m\u001b[0mpath\u001b[0m\u001b[0;34m)\u001b[0m\u001b[0;34m\u001b[0m\u001b[0;34m\u001b[0m\u001b[0m\n\u001b[0m",
      "\u001b[0;32m/usr/local/lib/python3.6/dist-packages/pandas/core/generic.py\u001b[0m in \u001b[0;36mto_csv\u001b[0;34m(self, path_or_buf, sep, na_rep, float_format, columns, header, index, index_label, mode, encoding, compression, quoting, quotechar, line_terminator, chunksize, date_format, doublequote, escapechar, decimal, errors)\u001b[0m\n\u001b[1;32m   3168\u001b[0m             \u001b[0mdecimal\u001b[0m\u001b[0;34m=\u001b[0m\u001b[0mdecimal\u001b[0m\u001b[0;34m,\u001b[0m\u001b[0;34m\u001b[0m\u001b[0;34m\u001b[0m\u001b[0m\n\u001b[1;32m   3169\u001b[0m         )\n\u001b[0;32m-> 3170\u001b[0;31m         \u001b[0mformatter\u001b[0m\u001b[0;34m.\u001b[0m\u001b[0msave\u001b[0m\u001b[0;34m(\u001b[0m\u001b[0;34m)\u001b[0m\u001b[0;34m\u001b[0m\u001b[0;34m\u001b[0m\u001b[0m\n\u001b[0m\u001b[1;32m   3171\u001b[0m \u001b[0;34m\u001b[0m\u001b[0m\n\u001b[1;32m   3172\u001b[0m         \u001b[0;32mif\u001b[0m \u001b[0mpath_or_buf\u001b[0m \u001b[0;32mis\u001b[0m \u001b[0;32mNone\u001b[0m\u001b[0;34m:\u001b[0m\u001b[0;34m\u001b[0m\u001b[0;34m\u001b[0m\u001b[0m\n",
      "\u001b[0;32m/usr/local/lib/python3.6/dist-packages/pandas/io/formats/csvs.py\u001b[0m in \u001b[0;36msave\u001b[0;34m(self)\u001b[0m\n\u001b[1;32m    204\u001b[0m             )\n\u001b[1;32m    205\u001b[0m \u001b[0;34m\u001b[0m\u001b[0m\n\u001b[0;32m--> 206\u001b[0;31m             \u001b[0mself\u001b[0m\u001b[0;34m.\u001b[0m\u001b[0m_save\u001b[0m\u001b[0;34m(\u001b[0m\u001b[0;34m)\u001b[0m\u001b[0;34m\u001b[0m\u001b[0;34m\u001b[0m\u001b[0m\n\u001b[0m\u001b[1;32m    207\u001b[0m \u001b[0;34m\u001b[0m\u001b[0m\n\u001b[1;32m    208\u001b[0m         \u001b[0;32mfinally\u001b[0m\u001b[0;34m:\u001b[0m\u001b[0;34m\u001b[0m\u001b[0;34m\u001b[0m\u001b[0m\n",
      "\u001b[0;32m/usr/local/lib/python3.6/dist-packages/pandas/io/formats/csvs.py\u001b[0m in \u001b[0;36m_save\u001b[0;34m(self)\u001b[0m\n\u001b[1;32m    326\u001b[0m                 \u001b[0;32mbreak\u001b[0m\u001b[0;34m\u001b[0m\u001b[0;34m\u001b[0m\u001b[0m\n\u001b[1;32m    327\u001b[0m \u001b[0;34m\u001b[0m\u001b[0m\n\u001b[0;32m--> 328\u001b[0;31m             \u001b[0mself\u001b[0m\u001b[0;34m.\u001b[0m\u001b[0m_save_chunk\u001b[0m\u001b[0;34m(\u001b[0m\u001b[0mstart_i\u001b[0m\u001b[0;34m,\u001b[0m \u001b[0mend_i\u001b[0m\u001b[0;34m)\u001b[0m\u001b[0;34m\u001b[0m\u001b[0;34m\u001b[0m\u001b[0m\n\u001b[0m\u001b[1;32m    329\u001b[0m \u001b[0;34m\u001b[0m\u001b[0m\n\u001b[1;32m    330\u001b[0m     \u001b[0;32mdef\u001b[0m \u001b[0m_save_chunk\u001b[0m\u001b[0;34m(\u001b[0m\u001b[0mself\u001b[0m\u001b[0;34m,\u001b[0m \u001b[0mstart_i\u001b[0m\u001b[0;34m:\u001b[0m \u001b[0mint\u001b[0m\u001b[0;34m,\u001b[0m \u001b[0mend_i\u001b[0m\u001b[0;34m:\u001b[0m \u001b[0mint\u001b[0m\u001b[0;34m)\u001b[0m \u001b[0;34m->\u001b[0m \u001b[0;32mNone\u001b[0m\u001b[0;34m:\u001b[0m\u001b[0;34m\u001b[0m\u001b[0;34m\u001b[0m\u001b[0m\n",
      "\u001b[0;32m/usr/local/lib/python3.6/dist-packages/pandas/io/formats/csvs.py\u001b[0m in \u001b[0;36m_save_chunk\u001b[0;34m(self, start_i, end_i)\u001b[0m\n\u001b[1;32m    344\u001b[0m                 \u001b[0mdecimal\u001b[0m\u001b[0;34m=\u001b[0m\u001b[0mself\u001b[0m\u001b[0;34m.\u001b[0m\u001b[0mdecimal\u001b[0m\u001b[0;34m,\u001b[0m\u001b[0;34m\u001b[0m\u001b[0;34m\u001b[0m\u001b[0m\n\u001b[1;32m    345\u001b[0m                 \u001b[0mdate_format\u001b[0m\u001b[0;34m=\u001b[0m\u001b[0mself\u001b[0m\u001b[0;34m.\u001b[0m\u001b[0mdate_format\u001b[0m\u001b[0;34m,\u001b[0m\u001b[0;34m\u001b[0m\u001b[0;34m\u001b[0m\u001b[0m\n\u001b[0;32m--> 346\u001b[0;31m                 \u001b[0mquoting\u001b[0m\u001b[0;34m=\u001b[0m\u001b[0mself\u001b[0m\u001b[0;34m.\u001b[0m\u001b[0mquoting\u001b[0m\u001b[0;34m,\u001b[0m\u001b[0;34m\u001b[0m\u001b[0;34m\u001b[0m\u001b[0m\n\u001b[0m\u001b[1;32m    347\u001b[0m             )\n\u001b[1;32m    348\u001b[0m \u001b[0;34m\u001b[0m\u001b[0m\n",
      "\u001b[0;32m/usr/local/lib/python3.6/dist-packages/pandas/core/internals/blocks.py\u001b[0m in \u001b[0;36mto_native_types\u001b[0;34m(self, na_rep, float_format, decimal, quoting, **kwargs)\u001b[0m\n\u001b[1;32m   1949\u001b[0m \u001b[0;34m\u001b[0m\u001b[0m\n\u001b[1;32m   1950\u001b[0m             \u001b[0;32mif\u001b[0m \u001b[0;32mnot\u001b[0m \u001b[0mquoting\u001b[0m\u001b[0;34m:\u001b[0m\u001b[0;34m\u001b[0m\u001b[0;34m\u001b[0m\u001b[0m\n\u001b[0;32m-> 1951\u001b[0;31m                 \u001b[0mvalues\u001b[0m \u001b[0;34m=\u001b[0m \u001b[0mvalues\u001b[0m\u001b[0;34m.\u001b[0m\u001b[0mastype\u001b[0m\u001b[0;34m(\u001b[0m\u001b[0mstr\u001b[0m\u001b[0;34m)\u001b[0m\u001b[0;34m\u001b[0m\u001b[0;34m\u001b[0m\u001b[0m\n\u001b[0m\u001b[1;32m   1952\u001b[0m             \u001b[0;32melse\u001b[0m\u001b[0;34m:\u001b[0m\u001b[0;34m\u001b[0m\u001b[0;34m\u001b[0m\u001b[0m\n\u001b[1;32m   1953\u001b[0m                 \u001b[0mvalues\u001b[0m \u001b[0;34m=\u001b[0m \u001b[0mnp\u001b[0m\u001b[0;34m.\u001b[0m\u001b[0marray\u001b[0m\u001b[0;34m(\u001b[0m\u001b[0mvalues\u001b[0m\u001b[0;34m,\u001b[0m \u001b[0mdtype\u001b[0m\u001b[0;34m=\u001b[0m\u001b[0;34m\"object\"\u001b[0m\u001b[0;34m)\u001b[0m\u001b[0;34m\u001b[0m\u001b[0;34m\u001b[0m\u001b[0m\n",
      "\u001b[0;31mKeyboardInterrupt\u001b[0m: "
     ]
    }
   ],
   "source": [
    "cwd = os.getcwd()\n",
    "path = cwd + \"/associations_times.csv\"\n",
    "result_df.to_csv(path)"
   ]
  },
  {
   "cell_type": "code",
   "execution_count": 87,
   "metadata": {},
   "outputs": [
    {
     "name": "stdout",
     "output_type": "stream",
     "text": [
      "DataPreprocessing.ipynb\t\t out_of_date_DataPreprocessing_SQL.ipynb\r\n",
      "DissimilarityMat.ipynb\t\t out_of_date_Init_DataPreprocessing.ipynb\r\n",
      "MDS_test.ipynb\t\t\t out_of_date_Init_ds_Mat.ipynb\r\n",
      "associations.db\t\t\t out_of_date_testdb.ipynb\r\n",
      "associations_times.csv\t\t scaled_buildings_dissimilarity_mat.csv\r\n",
      "building_names.csv\t\t tensorflow-tutorials\r\n",
      "building_names.txt\t\t test_dissimilarity_mat.csv\r\n",
      "buildings_dissimilarity_mat.csv  test_ids.csv\r\n",
      "locations.csv\t\t\t test_pos.csv\r\n"
     ]
    }
   ],
   "source": [
    "!ls"
   ]
  },
  {
   "cell_type": "code",
   "execution_count": 91,
   "metadata": {},
   "outputs": [
    {
     "name": "stdout",
     "output_type": "stream",
     "text": [
      "/bin/sh: 1: ssh-keygen: not found\r\n"
     ]
    }
   ],
   "source": [
    "!ssh-keygen -t rsa -b 4096 -C \"rmercer2@wisc.edu\""
   ]
  },
  {
   "cell_type": "code",
   "execution_count": 95,
   "metadata": {},
   "outputs": [],
   "source": [
    "!ls /notebooks/becca"
   ]
  },
  {
   "cell_type": "code",
   "execution_count": null,
   "metadata": {},
   "outputs": [],
   "source": [
    "!cp *"
   ]
  },
  {
   "cell_type": "code",
   "execution_count": 88,
   "metadata": {},
   "outputs": [
    {
     "name": "stdout",
     "output_type": "stream",
     "text": [
      "fatal: not a git repository (or any of the parent directories): .git\r\n"
     ]
    }
   ],
   "source": [
    "!git status"
   ]
  },
  {
   "cell_type": "code",
   "execution_count": null,
   "metadata": {},
   "outputs": [],
   "source": [
    "!git init\n",
    "!git remote add origin git@github.com:rmercer2/ece697.git\n",
    "!git add *\n",
    "!git commit -m \"reuploaded all from linux machine\""
   ]
  }
 ],
 "metadata": {
  "kernelspec": {
   "display_name": "Python 3",
   "language": "python",
   "name": "python3"
  },
  "language_info": {
   "codemirror_mode": {
    "name": "ipython",
    "version": 3
   },
   "file_extension": ".py",
   "mimetype": "text/x-python",
   "name": "python",
   "nbconvert_exporter": "python",
   "pygments_lexer": "ipython3",
   "version": "3.6.9"
  }
 },
 "nbformat": 4,
 "nbformat_minor": 2
}
