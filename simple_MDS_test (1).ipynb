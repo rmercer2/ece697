{
 "cells": [
  {
   "cell_type": "code",
   "execution_count": 1,
   "metadata": {},
   "outputs": [],
   "source": [
    "# this file runs with a small sample of processed test data to demonstrate \n",
    "# 1. calculating mds embeddings from dissimilarity matrix\n",
    "# 2. visualizing some of the data points\n",
    "\n",
    "# running this notebook requires: buildings_dissimilarity_mat.csv, building_names.csv, \n",
    "# and scaled_buildings_dissimilarity_mat.csv to be in the same directory\n",
    "\n",
    "# the data used here is generated in DissimilarityMat notebook which builds a few different\n",
    "# dissimilarity matrices using files generated using SQL in DataPreprocessing"
   ]
  },
  {
   "cell_type": "code",
   "execution_count": 2,
   "metadata": {},
   "outputs": [],
   "source": [
    "import numpy as np\n",
    "from matplotlib import pyplot as plt\n",
    "from matplotlib.collections import LineCollection\n",
    "\n",
    "from sklearn import manifold\n",
    "from sklearn.datasets import load_digits\n",
    "from sklearn.manifold import MDS\n",
    "from sklearn.metrics import euclidean_distances\n",
    "from sklearn.decomposition import PCA\n",
    "import random"
   ]
  },
  {
   "cell_type": "code",
   "execution_count": 3,
   "metadata": {},
   "outputs": [],
   "source": [
    "# function to return normalized data\n",
    "def normalize_data(m):\n",
    "    n = np.shape(m)[0]\n",
    "    \n",
    "    temp = m.flatten()\n",
    "    temp = temp[temp != 0] # zeros are missing data not actually zeros\n",
    "    mu = np.mean(temp)\n",
    "    sigma = np.std(temp)\n",
    "    \n",
    "    # normalize data\n",
    "    X = np.zeros((n,n))\n",
    "    for i in range(n):\n",
    "        for j in range(n):\n",
    "            if m[i][j] != 0:\n",
    "                X[i][j] = (m[i][j] - mu)/sigma\n",
    "    \n",
    "    # return result\n",
    "    return X, mu, sigma\n",
    " "
   ]
  },
  {
   "cell_type": "code",
   "execution_count": 4,
   "metadata": {},
   "outputs": [],
   "source": [
    "# function to train model and return embeddings\n",
    "def mds_embeddings(x):\n",
    "    seed = np.random.RandomState(seed=3)\n",
    "    mds = MDS(n_components=2, metric=False, max_iter=3000, eps=1e-12, dissimilarity=\"precomputed\", random_state=seed)\n",
    "    pos = mds.fit_transform(x)\n",
    "    return pos"
   ]
  },
  {
   "cell_type": "code",
   "execution_count": 5,
   "metadata": {},
   "outputs": [],
   "source": [
    "# function to get array of colors of given length\n",
    "def get_cmap(n):\n",
    "    return plt.cm.get_cmap('hsv', n)"
   ]
  },
  {
   "cell_type": "code",
   "execution_count": 6,
   "metadata": {},
   "outputs": [],
   "source": [
    "# function to scatter plot positions\n",
    "# results: array of 2d arrays containing x,y coordinates for datapoints in each set\n",
    "# labels: name for each set\n",
    "# indices: \n",
    "# results and labels must be same length\n",
    "def display_results(results, labels, indices):\n",
    "    n = len(indices)\n",
    "    # get enough colors\n",
    "    colors = get_cmap(n)\n",
    "    \n",
    "    # set up for plots\n",
    "    fig, ax = plt.subplots()\n",
    "    \n",
    "    # add each set in different color\n",
    "    for i in range(n):\n",
    "        index = indices[i]\n",
    "        # sometimes have array and sometimes array of arrays\n",
    "        if len(np.shape(results[0])) > 1:\n",
    "            x = results[index][:,0]\n",
    "            y = results[index][:,1]\n",
    "            ax.scatter(x, y, color=colors(i), label=labels[index])\n",
    "        else:\n",
    "            x = results[index][0]\n",
    "            y = results[index][1]\n",
    "            ax.scatter(x, y, color=colors(i), label=labels[index])\n",
    "            ax.annotate(labels[index], (x, y))\n",
    "        \n",
    "    ax.legend(bbox_to_anchor=(1.05, 1), loc=2, borderaxespad=0.)\n",
    "    "
   ]
  },
  {
   "cell_type": "code",
   "execution_count": 7,
   "metadata": {},
   "outputs": [],
   "source": [
    "# Test on dissimilarity matrix with buildings\n",
    "\n",
    "# import ds matrix\n",
    "buildings_ds_mat = np.genfromtxt('buildings_dissimilarity_mat.csv', delimiter=',')\n",
    "\n",
    "n = np.shape(buildings_ds_mat)[0]\n",
    "\n",
    "# import list of building names\n",
    "building_names = []\n",
    "with open('building_names.csv', 'r') as f:\n",
    "    for line in f.readlines():\n",
    "        l = line.strip()\n",
    "        building_names.append(l)"
   ]
  },
  {
   "cell_type": "code",
   "execution_count": 8,
   "metadata": {},
   "outputs": [],
   "source": [
    "# normalize data\n",
    "x, u, s = normalize_data(buildings_ds_mat)"
   ]
  },
  {
   "cell_type": "code",
   "execution_count": 9,
   "metadata": {},
   "outputs": [],
   "source": [
    "# train\n",
    "test_embeddings = mds_embeddings(x)"
   ]
  },
  {
   "cell_type": "code",
   "execution_count": 10,
   "metadata": {},
   "outputs": [
    {
     "data": {
      "image/png": "[encoded data removed]",
      "text/plain": [
       "<Figure size 432x288 with 1 Axes>"
      ]
     },
     "metadata": {
      "needs_background": "light"
     },
     "output_type": "display_data"
    }
   ],
   "source": [
    "# visualize some\n",
    "test_indices = [building_names.index('wendt'), building_names.index('witte'), \n",
    "                building_names.index('shell'), building_names.index('sellery'), \n",
    "                building_names.index('memun'), building_names.index('chem'), \n",
    "                building_names.index('ehcom'), building_names.index('carsong'),\n",
    "                building_names.index('aghall'), building_names.index('adams'),\n",
    "                building_names.index('msc')]\n",
    "display_results(test_embeddings, building_names, test_indices)"
   ]
  },
  {
   "cell_type": "code",
   "execution_count": 26,
   "metadata": {},
   "outputs": [],
   "source": [
    "# Test on scaled dissimilarity matrix with buildings\n",
    "\n",
    "# import ds matrix\n",
    "scaled_buildings_ds_mat = np.genfromtxt('scaled_buildings_dissimilarity_mat.csv', delimiter=',')\n",
    "\n",
    "# normalize data\n",
    "x, u, s = normalize_data(scaled_buildings_ds_mat)\n",
    "\n",
    "# train\n",
    "test2_embeddings = mds_embeddings(x)"
   ]
  },
  {
   "cell_type": "code",
   "execution_count": 31,
   "metadata": {},
   "outputs": [
    {
     "data": {
      "image/png": "[encoded data removed]",
      "text/plain": [
       "<Figure size 432x288 with 1 Axes>"
      ]
     },
     "metadata": {
      "needs_background": "light"
     },
     "output_type": "display_data"
    }
   ],
   "source": [
    "# visualize some\n",
    "test_indices = [building_names.index('wendt'), building_names.index('witte'), \n",
    "                building_names.index('shell'), building_names.index('sellery'), \n",
    "                building_names.index('memun'), building_names.index('chem'), \n",
    "                building_names.index('ehcom'), building_names.index('carsong'),\n",
    "                building_names.index('aghall'), building_names.index('adams'),\n",
    "                building_names.index('hcwhite')]\n",
    "display_results(test2_embeddings, building_names, test_indices)"
   ]
  },
  {
   "cell_type": "code",
   "execution_count": null,
   "metadata": {},
   "outputs": [],
   "source": []
  },
  {
   "cell_type": "code",
   "execution_count": null,
   "metadata": {},
   "outputs": [],
   "source": []
  }
 ],
 "metadata": {
  "kernelspec": {
   "display_name": "Python 3",
   "language": "python",
   "name": "python3"
  },
  "language_info": {
   "codemirror_mode": {
    "name": "ipython",
    "version": 3
   },
   "file_extension": ".py",
   "mimetype": "text/x-python",
   "name": "python",
   "nbconvert_exporter": "python",
   "pygments_lexer": "ipython3",
   "version": "3.6.9"
  }
 },
 "nbformat": 4,
 "nbformat_minor": 2
}
